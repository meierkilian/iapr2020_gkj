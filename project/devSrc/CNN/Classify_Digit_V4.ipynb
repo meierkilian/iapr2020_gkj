{
 "cells": [
  {
   "cell_type": "markdown",
   "metadata": {},
   "source": [
    "# CLASSIFY DIGITS\n",
    "let's try a simple sklearn deep network"
   ]
  },
  {
   "cell_type": "code",
   "execution_count": 4,
   "metadata": {},
   "outputs": [],
   "source": [
    "from Classify_Symbols.classify_lib import *"
   ]
  },
  {
   "cell_type": "code",
<<<<<<< HEAD
   "execution_count": 2,
=======
   "execution_count": 5,
>>>>>>> 0085b9962750023f586246443c3f150056b4604c
   "metadata": {},
   "outputs": [],
   "source": [
    "import tarfile\n",
    "import os\n",
    "import gzip\n",
    "import numpy as np\n",
    "import matplotlib.pyplot as plt\n",
    "import pickle\n",
    "from sklearn.neural_network import MLPClassifier\n",
    "from sklearn.preprocessing import StandardScaler\n",
    "\n",
    "#for data augmentation\n",
    "from skimage.transform import rotate\n",
    "from skimage.transform import warp\n",
    "from skimage.transform import SimilarityTransform\n",
    "\n",
    "data_base_path = os.path.join(os.pardir, '..\\\\data')\n",
    "data_folder = 'lab-03-data'\n",
    "tar_path = os.path.join(data_base_path, data_folder + '.tar.gz')\n",
    "with tarfile.open(tar_path, mode='r:gz') as tar:\n",
    "    tar.extractall(path=data_base_path)"
   ]
  },
  {
   "cell_type": "code",
<<<<<<< HEAD
   "execution_count": 3,
=======
   "execution_count": 6,
>>>>>>> 0085b9962750023f586246443c3f150056b4604c
   "metadata": {},
   "outputs": [],
   "source": [
    "def extract_data(filename, image_shape, image_number):\n",
    "    with gzip.open(filename) as bytestream:\n",
    "        bytestream.read(16)\n",
    "        buf = bytestream.read(np.prod(image_shape) * image_number)\n",
    "        data = np.frombuffer(buf, dtype=np.uint8).astype(np.float32)\n",
    "        data = data.reshape(image_number, image_shape[0], image_shape[1])\n",
    "    return data\n",
    "\n",
    "\n",
    "def extract_labels(filename, image_number):\n",
    "    with gzip.open(filename) as bytestream:\n",
    "        bytestream.read(8)\n",
    "        buf = bytestream.read(1 * image_number)\n",
    "        labels = np.frombuffer(buf, dtype=np.uint8).astype(np.int64)\n",
    "    return labels"
   ]
  },
  {
   "cell_type": "code",
<<<<<<< HEAD
   "execution_count": 4,
=======
   "execution_count": 7,
>>>>>>> 0085b9962750023f586246443c3f150056b4604c
   "metadata": {},
   "outputs": [],
   "source": [
    "image_shape = (28, 28)\n",
    "train_set_size = 60000\n",
    "test_set_size = 10000\n",
    "\n",
    "data_part2_folder = os.path.join(data_base_path, data_folder, 'part2')\n",
    "\n",
    "train_images_path = os.path.join(data_part2_folder, 'train-images-idx3-ubyte.gz')\n",
    "train_labels_path = os.path.join(data_part2_folder, 'train-labels-idx1-ubyte.gz')\n",
    "test_images_path = os.path.join(data_part2_folder, 't10k-images-idx3-ubyte.gz')\n",
    "test_labels_path = os.path.join(data_part2_folder, 't10k-labels-idx1-ubyte.gz')\n",
    "\n",
    "train_images = extract_data(train_images_path, image_shape, train_set_size)\n",
    "test_images = extract_data(test_images_path, image_shape, test_set_size)\n",
    "train_labels = extract_labels(train_labels_path, train_set_size)\n",
    "test_labels = extract_labels(test_labels_path, test_set_size)"
   ]
  },
  {
   "cell_type": "markdown",
   "metadata": {},
   "source": [
    "### Remove the 9 labels"
   ]
  },
  {
   "cell_type": "code",
   "execution_count": 5,
   "metadata": {},
   "outputs": [
    {
     "data": {
      "text/plain": [
       "(54051, 8991)"
      ]
     },
     "execution_count": 5,
     "metadata": {},
     "output_type": "execute_result"
    }
   ],
   "source": [
    "nb_data_train, nb_data_test =np.sum(~(train_labels == 9)),  np.sum(~(test_labels==9))\n",
    "nb_data_train, nb_data_test"
   ]
  },
  {
   "cell_type": "code",
   "execution_count": 6,
   "metadata": {},
   "outputs": [],
   "source": [
    "train_images[0:nb_data_train,:,:] = train_images[~(train_labels == 9)]\n",
    "test_images[0:nb_data_test,:,:] = test_images[~(test_labels == 9)]\n",
    "train_labels[0:nb_data_train] = train_labels[~(train_labels == 9)]\n",
    "test_labels[0:nb_data_test] = test_labels[~(test_labels == 9)]"
   ]
  },
  {
   "cell_type": "code",
   "execution_count": 7,
   "metadata": {},
   "outputs": [
    {
     "data": {
      "text/plain": [
       "(0, 0)"
      ]
     },
     "execution_count": 7,
     "metadata": {},
     "output_type": "execute_result"
    }
   ],
   "source": [
    "np.sum(train_labels[0:nb_data_train]==9) , np.sum(test_labels[0:nb_data_test]==9) #to check there is NO 9 digits"
   ]
  },
  {
   "cell_type": "markdown",
   "metadata": {},
   "source": [
    "### DATA AUGMENTATION"
   ]
  },
  {
   "cell_type": "code",
   "execution_count": 8,
   "metadata": {},
   "outputs": [],
   "source": [
    "# for train data\n",
    "angles = np.random.randint(low = 0, high = 360, size = nb_data_train)       #integers are enough, 1 degree is very small\n",
    "trans = np.random.uniform(low = -1, high = 1, size = (nb_data_train,2) )    #float as translation like 1.5 are also useful ! \n",
    "# for test data\n",
    "angles_test = np.random.randint(low = 0, high = 360, size = nb_data_test)   #integers are enough, 1 degree is very small\n",
    "trans_test = np.random.uniform(low = -1, high = 1, size = (nb_data_test,2) )#float as translation like 1.5 are also useful ! "
   ]
  },
  {
   "cell_type": "code",
   "execution_count": 9,
   "metadata": {},
   "outputs": [],
   "source": [
    "for i in np.arange(nb_data_train):\n",
    "    T = SimilarityTransform( translation = trans[i] )\n",
    "    train_images[i,:,:] = rotate(train_images[i,:,:], angles[i])\n",
    "    train_images[i,:,:] = warp( train_images[i,:,:], inverse_map = T.inverse) \n",
    "\n",
    "for i in np.arange(nb_data_test):\n",
    "    T = SimilarityTransform( translation = trans_test[i] )\n",
    "    test_images[i,:,:] = rotate(test_images[i,:,:], angles_test[i])\n",
    "    test_images[i,:,:] = warp( test_images[i,:,:], inverse_map = T.inverse) "
   ]
  },
  {
   "cell_type": "code",
   "execution_count": 10,
   "metadata": {},
   "outputs": [
    {
     "name": "stdout",
     "output_type": "stream",
     "text": [
      "(60000, 28, 28) (10000, 28, 28)\n",
      "(60000,) (10000,)\n"
     ]
    }
   ],
   "source": [
    "print(train_images.shape, test_images.shape)\n",
    "print(train_labels.shape, test_labels.shape)"
   ]
  },
  {
   "cell_type": "code",
   "execution_count": 11,
   "metadata": {},
   "outputs": [
    {
     "data": {
      "image/png": "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\n",
      "text/plain": [
       "<Figure size 864x864 with 60 Axes>"
      ]
     },
     "metadata": {
      "needs_background": "light"
     },
     "output_type": "display_data"
    }
   ],
   "source": [
    "plot_pic( [train_images[i,:,:] for i in np.arange(0,30)])"
   ]
  },
  {
   "cell_type": "markdown",
   "metadata": {},
   "source": [
    "### loading pictures as Kilian feeds them to me"
   ]
  },
  {
   "cell_type": "code",
<<<<<<< HEAD
   "execution_count": 13,
=======
   "execution_count": 8,
>>>>>>> 0085b9962750023f586246443c3f150056b4604c
   "metadata": {},
   "outputs": [
    {
     "data": {
      "image/png": "iVBORw0KGgoAAAANSUhEUgAAAqwAAABuCAYAAADifUGmAAAABHNCSVQICAgIfAhkiAAAAAlwSFlzAAALEgAACxIB0t1+/AAAADh0RVh0U29mdHdhcmUAbWF0cGxvdGxpYiB2ZXJzaW9uMy4yLjEsIGh0dHA6Ly9tYXRwbG90bGliLm9yZy+j8jraAAAE3klEQVR4nO3d0Y0TMRAG4ByiCqqgCUQFVEkFiCaogjIIj3fKXVabjdf+x/6+R5BykWe9Ho0n9sv1er0AAECqT6O/AAAAbJGwAgAQTcIKAEA0CSsAANEkrAAARJOwAgAQ7fPWf3779MOZVwP9/vfzpdVnieVYYjkPsZxHq1iK41jm5Dy2YqnCCgBANAkrAADRJKwAAESTsAIAEE3CCgBANAkrAADRNo+1quDX3z/NP/P7l6/NPxMAemq9PlobGUmFFQCAaBJWAACilWwJOKMN4N7n2wIBoIKea+PlYn2kLxVWAACiSVgBAIgmYQUAIFqJHtaz+3Ie+dt6dvo5EnfxAVaSsj56957LEWUqrAAAhJOwAgAQrURLwG3pem9pfKvkfbS8bgukrdbbHFo4gJW8fceltAdcLt69z3JE2XsqrAAARJOwAgAQTcIKAEC0Ej2st1r0WqT0/azGWAOcY+v3HnvXTe/ocYz9NhVWAACiSVgBAIhWsiWAWmxzrOfsmFc4ggVGOzJPjh4jCWdTYQUAIJqEFQCAaFoCiGErqrae8ap4S8sILWJibKGPrdOLzri5sxoVVgAAoklYAQCIJmEFACCaHtYH6ed63NG+HLeRnWe28Txyo8+sWse297OyevxGOxpvcWvrkfFcZa1UYQUAIJqEFQCAaMu2BMxcNk9m22gcz/ycZour9g7gIyqsAABEk7ACABBNwgoAQLRlelgd1QHP6zkfZuvNTHN2LMWvDusjFaiwAgAQTcIKAEC0qVsCbHPAc6rMhSrfc6TeY3T09h2x7OPI+ig286gYSxVWAACiSVgBAIgmYQUAINp0Paz6cuYhltwjzq9ux8LVpnzEbzrmtcoRciqsAABEk7ACABCtfEuAbY55rLKtMcrWM39v7G//3e1I+aq926p939mJB6lUWAEAiCZhBQAgWsmWAL8eh7bMD1rT3jHe3hiY/7W0mFu9271aUGEFACCahBUAgGgSVgAAopXoYXV01Rq2buzZq2JfDkALj7wzvRvrarFWVqTCCgBANAkrAADRYlsCHMfBvdiusv2xgqOx1PqRx7wcw7iz9/1X/VlRYQUAIJqEFQCAaBJWAACixfSwOo6DvVY90mMWZ8Tr7Wd6P/Rj7vXnmEeOevsM3D5HFd6hKqwAAESTsAIAEG1oS4Cjq2ANto7n0TqWjig7j7FkJiqsAABEk7ACABBNwgoAQLTuPax62QBgv5R10/GTjKTCCgBANAkrAADRYm662nLGsScttlhseUA/5ltdYve4FmvUyFaCCjcnrSalteQoFVYAAKJJWAEAiFaiJeBWSlnblscYKfFnv7fzww13axC/5xyZM6mslbSgwgoAQDQJKwAA0SSsAABE697DOlNfDvuIM3vpb6tL7LjHs7HP0bXy3vjOtvaqsAIAEE3CCgBAtKHHWlVvD7DNkUdMahGvfFvvZvHrwzizZZWbO1VYAQCIJmEFACCahBUAgGgxV7NW6J/gmLN7lT07+Sr2qAP01PN3PRXXTRVWAACiSVgBAIgW0xLAGipuQ/C86kfY8cochvOZZ++psAIAEE3CCgBANAkrAADR9LACXenNqkW8gAQqrAAARJOwAgAQ7eV6vY7+DgAAcJcKKwAA0SSsAABEk7ACABBNwgoAQDQJKwAA0SSsAABE+w/vZoQa88CywAAAAABJRU5ErkJggg==\n",
      "text/plain": [
       "<Figure size 864x864 with 6 Axes>"
      ]
     },
     "metadata": {
      "needs_background": "light"
     },
     "output_type": "display_data"
    }
   ],
   "source": [
    "# Can be loaded using pickle and the following lines\n",
    "with open('extractedImg.data', 'rb') as dataFile:\n",
    "\tlistObj = pickle.load(dataFile)\n",
    "    \n",
    "digits_ls = [listObj[i]['img'] for i in [0,1,4,5,7,8] ]#just keep the digits (and discard the symbols)\n",
    "digits = np.zeros( (len(digits_ls), 28,28))\n",
    "for i in np.arange(len(digits_ls)):\n",
    "    digits[i,:,:] = digits_ls[i]\n",
    "\n",
    "plot_pic( digits_ls )"
   ]
  },
  {
   "cell_type": "markdown",
   "metadata": {},
   "source": [
    "# A first network"
   ]
  },
  {
   "cell_type": "code",
<<<<<<< HEAD
   "execution_count": 14,
   "metadata": {},
   "outputs": [],
   "source": [
    "# Various imports\n"
   ]
  },
  {
   "cell_type": "code",
   "execution_count": 15,
   "metadata": {},
   "outputs": [],
   "source": [
    "def vectImageArray(a) :\n",
    "    \"\"\"\n",
    "    Transforms an array of images in a array of vectorised images\n",
    "    \"\"\"\n",
    "    return np.reshape(a, (a.shape[0],a.shape[1]*a.shape[2]))"
   ]
  },
  {
   "cell_type": "code",
   "execution_count": 41,
=======
   "execution_count": 101,
>>>>>>> 0085b9962750023f586246443c3f150056b4604c
   "metadata": {
    "scrolled": true
   },
   "outputs": [
    {
     "name": "stdout",
     "output_type": "stream",
     "text": [
      "Done scaling\n",
      "Iteration 1, loss = 1.34267055\n",
      "Iteration 2, loss = 0.82331543\n",
      "Iteration 3, loss = 0.68034672\n",
      "Iteration 4, loss = 0.59754798\n",
      "Iteration 5, loss = 0.54450190\n",
      "Iteration 6, loss = 0.50744821\n",
      "Iteration 7, loss = 0.48279442\n",
      "Iteration 8, loss = 0.45258194\n",
      "Iteration 9, loss = 0.43044370\n",
      "Iteration 10, loss = 0.42073843\n",
      "Iteration 11, loss = 0.40766494\n",
      "Iteration 12, loss = 0.40143337\n",
      "Iteration 13, loss = 0.39313513\n",
      "Iteration 14, loss = 0.38110911\n",
      "Iteration 15, loss = 0.37795029\n",
      "Iteration 16, loss = 0.36153914\n",
      "Iteration 17, loss = 0.35882981\n",
      "Iteration 18, loss = 0.35975233\n",
      "Iteration 19, loss = 0.36188594\n",
      "Iteration 20, loss = 0.34753326\n",
      "Iteration 21, loss = 0.34977374\n",
      "Iteration 22, loss = 0.34252760\n",
      "Iteration 23, loss = 0.33499613\n",
      "Iteration 24, loss = 0.33659296\n",
      "Iteration 25, loss = 0.33850656\n",
      "Iteration 26, loss = 0.33343838\n",
      "Iteration 27, loss = 0.32991287\n",
      "Iteration 28, loss = 0.32373189\n",
      "Iteration 29, loss = 0.32424620\n",
      "Iteration 30, loss = 0.33522031\n",
      "Iteration 31, loss = 0.32107895\n",
      "Iteration 32, loss = 0.31726280\n",
      "Iteration 33, loss = 0.31761416\n",
      "Iteration 34, loss = 0.31614344\n",
      "Iteration 35, loss = 0.31114308\n",
      "Iteration 36, loss = 0.30982742\n",
      "Iteration 37, loss = 0.31280892\n",
      "Iteration 38, loss = 0.32039576\n",
      "Iteration 39, loss = 0.32281916\n",
      "Iteration 40, loss = 0.30968292\n",
      "Iteration 41, loss = 0.30155312\n",
      "Iteration 42, loss = 0.30968470\n",
      "Iteration 43, loss = 0.30413342\n",
      "Iteration 44, loss = 0.30403053\n",
      "Iteration 45, loss = 0.30529327\n",
      "Iteration 46, loss = 0.30501207\n",
      "Iteration 47, loss = 0.30611070\n",
      "Iteration 48, loss = 0.30708821\n",
      "Iteration 49, loss = 0.29528919\n",
      "Iteration 50, loss = 0.29904335\n",
      "Iteration 51, loss = 0.30048175\n",
      "Iteration 52, loss = 0.29610071\n",
      "Iteration 53, loss = 0.30152068\n",
      "Iteration 54, loss = 0.30115783\n",
      "Iteration 55, loss = 0.30238679\n",
      "Iteration 56, loss = 0.29002559\n",
      "Iteration 57, loss = 0.29267720\n",
      "Iteration 58, loss = 0.29426364\n",
      "Iteration 59, loss = 0.29337382\n",
      "Iteration 60, loss = 0.29867110\n",
      "Iteration 61, loss = 0.28696353\n",
      "Iteration 62, loss = 0.29208766\n",
      "Iteration 63, loss = 0.30200379\n",
      "Iteration 64, loss = 0.29329157\n",
      "Iteration 65, loss = 0.29001060\n",
      "Iteration 66, loss = 0.29600659\n",
      "Iteration 67, loss = 0.28864962\n",
      "Iteration 68, loss = 0.29465543\n",
      "Iteration 69, loss = 0.28752832\n",
      "Iteration 70, loss = 0.28654134\n",
      "Iteration 71, loss = 0.28546602\n",
      "Iteration 72, loss = 0.28363842\n",
      "Iteration 73, loss = 0.28340757\n",
      "Iteration 74, loss = 0.29080140\n",
      "Iteration 75, loss = 0.28475231\n",
      "Iteration 76, loss = 0.28848942\n",
      "Iteration 77, loss = 0.28103526\n",
      "Iteration 78, loss = 0.28523779\n",
      "Iteration 79, loss = 0.27581223\n",
      "Iteration 80, loss = 0.28725940\n",
      "Iteration 81, loss = 0.28848154\n",
      "Iteration 82, loss = 0.28015810\n",
      "Iteration 83, loss = 0.28100719\n",
      "Iteration 84, loss = 0.28491279\n",
      "Iteration 85, loss = 0.28737177\n",
      "Iteration 86, loss = 0.28155969\n",
      "Iteration 87, loss = 0.28301440\n",
      "Iteration 88, loss = 0.27955369\n",
      "Iteration 89, loss = 0.27876070\n",
      "Iteration 90, loss = 0.27451558\n",
      "Iteration 91, loss = 0.27570771\n",
      "Iteration 92, loss = 0.27737757\n",
      "Iteration 93, loss = 0.29039771\n",
      "Iteration 94, loss = 0.27570518\n",
      "Iteration 95, loss = 0.27429351\n",
      "Iteration 96, loss = 0.27778690\n",
      "Iteration 97, loss = 0.27616176\n",
      "Iteration 98, loss = 0.28421370\n",
      "Iteration 99, loss = 0.28096231\n",
      "Iteration 100, loss = 0.28024544\n",
      "Iteration 101, loss = 0.27226728\n",
      "Iteration 102, loss = 0.26874643\n",
      "Iteration 103, loss = 0.27884978\n",
      "Iteration 104, loss = 0.28125525\n",
      "Iteration 105, loss = 0.27022487\n",
      "Iteration 106, loss = 0.26788115\n",
      "Iteration 107, loss = 0.27698383\n",
      "Iteration 108, loss = 0.27647747\n",
      "Iteration 109, loss = 0.27223682\n",
      "Iteration 110, loss = 0.27136809\n",
      "Iteration 111, loss = 0.27595871\n",
      "Iteration 112, loss = 0.27926500\n",
      "Iteration 113, loss = 0.28084137\n",
      "Iteration 114, loss = 0.27068924\n",
      "Iteration 115, loss = 0.27483303\n",
      "Iteration 116, loss = 0.27788057\n",
      "Iteration 117, loss = 0.27542250\n",
      "Training loss did not improve more than tol=0.000100 for 10 consecutive epochs. Stopping.\n",
      "Done training\n"
     ]
    }
   ],
   "source": [
    "# Training \n",
    "\n",
    "clf = MLPClassifier(solver='adam', activation='relu', alpha=0.3,\n",
    "                    hidden_layer_sizes=(196, 98, 49), random_state=1, verbose=True)\n",
    "\n",
    "scaler = StandardScaler()\n",
    "\n",
    "scaler.fit(vectImageArray(train_images[:nb_data_train,:]))\n",
    "print(\"Done scaling\")\n",
    "X_train = scaler.transform(vectImageArray(train_images[:nb_data_train,:]))\n",
    "\n",
    "clf.fit(X_train, train_labels[:nb_data_train])\n",
    "print(\"Done training\")"
   ]
  },
  {
   "cell_type": "code",
   "execution_count": 42,
   "metadata": {},
   "outputs": [
    {
     "name": "stdout",
     "output_type": "stream",
     "text": [
      "Resulting accuracy is : 0.9152\n"
     ]
    }
   ],
   "source": [
    "# Testing \n",
    "X_test = scaler.transform(vectImageArray(test_images[:nb_data_train,:]))\n",
    "s = clf.score(X_test,test_labels[:nb_data_train])\n",
    "print(\"Resulting accuracy is : {}\".format(s))"
   ]
  },
  {
   "cell_type": "code",
   "execution_count": null,
   "metadata": {},
   "outputs": [],
   "source": [
    "# results so far :                                               // error for Kilian dataset (over 7 pics)\n",
    "# (70,30) : 0.88                                                          1\n",
    "# (784, 50) : 0.915                                                       1\n",
    "# (98, 24) : 0.8823                                                     forgot\n",
    "# (98, 48, 10) : 0.882                                                    1\n",
    "# (98, 48, 24, 12, 12, 12, 12, 12) : 0.892                                0       \n",
    "# (98, 48, 24, 12, 12, 12, 12, 12, 12, 12, 12) : 0.88                     0\n",
    "# (196, 48, 24, 12, 24, 12, 24, 12, 12, 12, 12, 12) : 0.886               0\n",
    "# (196, 98, 49) : 0.915                                                   1\n"
   ]
  },
  {
   "cell_type": "code",
   "execution_count": 103,
   "metadata": {},
   "outputs": [
    {
     "data": {
      "image/png": "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\n",
      "text/plain": [
       "<Figure size 864x216 with 10 Axes>"
      ]
     },
     "metadata": {
      "needs_background": "light"
     },
     "output_type": "display_data"
    }
   ],
   "source": [
    "# Plotting some misclassified digits\n",
    "\n",
    "nbrFalse = 0\n",
    "maxFalse = 10\n",
    "\n",
    "listFalseId = []\n",
    "listFalsePred = []\n",
    "for i in np.arange(test_labels.shape[0]-1) :\n",
    "    if nbrFalse >= maxFalse:\n",
    "        break\n",
    "    \n",
    "    pred = clf.predict(X_test[i:i+1,:])[0]\n",
    "    if test_labels[i] != pred :\n",
    "        listFalseId.append(i)\n",
    "        listFalsePred.append(pred)\n",
    "        nbrFalse = nbrFalse + 1\n",
    "        \n",
    "fig, axes = plt.subplots(1, maxFalse, figsize=(12, 3))\n",
    "for ax, i, pred in zip(axes, listFalseId, listFalsePred):\n",
    "    ax.imshow(test_images[i,:,:], cmap='gray')\n",
    "    ax.axis('off')\n",
    "    ax.set_title(\"TL : {}\\n PL : {}\".format(test_labels[i],pred))"
   ]
  },
  {
   "cell_type": "markdown",
   "metadata": {},
   "source": [
    "# Now test how it goes with the picture from the videos"
   ]
  },
  {
   "cell_type": "code",
<<<<<<< HEAD
   "execution_count": 32,
=======
   "execution_count": 10,
>>>>>>> 0085b9962750023f586246443c3f150056b4604c
   "metadata": {},
   "outputs": [
    {
     "ename": "NameError",
     "evalue": "name 'scaler' is not defined",
     "output_type": "error",
     "traceback": [
      "\u001b[1;31m---------------------------------------------------------------------------\u001b[0m",
      "\u001b[1;31mNameError\u001b[0m                                 Traceback (most recent call last)",
      "\u001b[1;32m<ipython-input-10-4bbecd89b99e>\u001b[0m in \u001b[0;36m<module>\u001b[1;34m\u001b[0m\n\u001b[1;32m----> 1\u001b[1;33m \u001b[0mX_test_moodle\u001b[0m \u001b[1;33m=\u001b[0m \u001b[0mscaler\u001b[0m\u001b[1;33m.\u001b[0m\u001b[0mtransform\u001b[0m\u001b[1;33m(\u001b[0m\u001b[0mvectImageArray\u001b[0m\u001b[1;33m(\u001b[0m\u001b[0mdigits\u001b[0m\u001b[1;33m*\u001b[0m\u001b[1;36m255\u001b[0m\u001b[1;33m)\u001b[0m\u001b[1;33m)\u001b[0m \u001b[1;31m# x255 because the input pictures are uint8 !\u001b[0m\u001b[1;33m\u001b[0m\u001b[1;33m\u001b[0m\u001b[0m\n\u001b[0m",
      "\u001b[1;31mNameError\u001b[0m: name 'scaler' is not defined"
     ]
    }
   ],
   "source": [
    "X_test_moodle = scaler.transform(vectImageArray(digits*255)) # x255 because the input pictures are uint8 ! "
   ]
  },
  {
   "cell_type": "code",
   "execution_count": 33,
   "metadata": {},
   "outputs": [
    {
     "data": {
      "image/png": "iVBORw0KGgoAAAANSUhEUgAAAqwAAABuCAYAAADifUGmAAAABHNCSVQICAgIfAhkiAAAAAlwSFlzAAALEgAACxIB0t1+/AAAADh0RVh0U29mdHdhcmUAbWF0cGxvdGxpYiB2ZXJzaW9uMy4xLjMsIGh0dHA6Ly9tYXRwbG90bGliLm9yZy+AADFEAAAE3klEQVR4nO3d0Y0TMRAG4ByiCqqgCUQFVEkFiCaogjIIj3fKXVabjdf+x/6+R5BykWe9Ho0n9sv1er0AAECqT6O/AAAAbJGwAgAQTcIKAEA0CSsAANEkrAAARJOwAgAQ7fPWf3779MOZVwP9/vfzpdVnieVYYjkPsZxHq1iK41jm5Dy2YqnCCgBANAkrAADRJKwAAESTsAIAEE3CCgBANAkrAADRNo+1quDX3z/NP/P7l6/NPxMAemq9PlobGUmFFQCAaBJWAACilWwJOKMN4N7n2wIBoIKea+PlYn2kLxVWAACiSVgBAIgmYQUAIFqJHtaz+3Ie+dt6dvo5EnfxAVaSsj56957LEWUqrAAAhJOwAgAQrURLwG3pem9pfKvkfbS8bgukrdbbHFo4gJW8fceltAdcLt69z3JE2XsqrAAARJOwAgAQTcIKAEC0Ej2st1r0WqT0/azGWAOcY+v3HnvXTe/ocYz9NhVWAACiSVgBAIhWsiWAWmxzrOfsmFc4ggVGOzJPjh4jCWdTYQUAIJqEFQCAaFoCiGErqrae8ap4S8sILWJibKGPrdOLzri5sxoVVgAAoklYAQCIJmEFACCaHtYH6ed63NG+HLeRnWe28Txyo8+sWse297OyevxGOxpvcWvrkfFcZa1UYQUAIJqEFQCAaMu2BMxcNk9m22gcz/ycZour9g7gIyqsAABEk7ACABBNwgoAQLRlelgd1QHP6zkfZuvNTHN2LMWvDusjFaiwAgAQTcIKAEC0qVsCbHPAc6rMhSrfc6TeY3T09h2x7OPI+ig286gYSxVWAACiSVgBAIgmYQUAINp0Paz6cuYhltwjzq9ux8LVpnzEbzrmtcoRciqsAABEk7ACABCtfEuAbY55rLKtMcrWM39v7G//3e1I+aq926p939mJB6lUWAEAiCZhBQAgWsmWAL8eh7bMD1rT3jHe3hiY/7W0mFu9271aUGEFACCahBUAgGgSVgAAopXoYXV01Rq2buzZq2JfDkALj7wzvRvrarFWVqTCCgBANAkrAADRYlsCHMfBvdiusv2xgqOx1PqRx7wcw7iz9/1X/VlRYQUAIJqEFQCAaBJWAACixfSwOo6DvVY90mMWZ8Tr7Wd6P/Rj7vXnmEeOevsM3D5HFd6hKqwAAESTsAIAEG1oS4Cjq2ANto7n0TqWjig7j7FkJiqsAABEk7ACABBNwgoAQLTuPax62QBgv5R10/GTjKTCCgBANAkrAADRYm662nLGsScttlhseUA/5ltdYve4FmvUyFaCCjcnrSalteQoFVYAAKJJWAEAiFaiJeBWSlnblscYKfFnv7fzww13axC/5xyZM6mslbSgwgoAQDQJKwAA0SSsAABE697DOlNfDvuIM3vpb6tL7LjHs7HP0bXy3vjOtvaqsAIAEE3CCgBAtKHHWlVvD7DNkUdMahGvfFvvZvHrwzizZZWbO1VYAQCIJmEFACCahBUAgGgxV7NW6J/gmLN7lT07+Sr2qAP01PN3PRXXTRVWAACiSVgBAIgW0xLAGipuQ/C86kfY8cochvOZZ++psAIAEE3CCgBANAkrAADR9LACXenNqkW8gAQqrAAARJOwAgAQ7eV6vY7+DgAAcJcKKwAA0SSsAABEk7ACABBNwgoAQDQJKwAA0SSsAABE+w/vZoQa88CywAAAAABJRU5ErkJggg==\n",
      "text/plain": [
       "<Figure size 864x864 with 6 Axes>"
      ]
     },
     "metadata": {
      "needs_background": "light"
     },
     "output_type": "display_data"
    }
   ],
   "source": [
    "plot_pic( digits_ls)"
   ]
  },
  {
   "cell_type": "code",
   "execution_count": 43,
   "metadata": {},
   "outputs": [
    {
     "data": {
      "text/plain": [
       "array([3, 3, 7, 7, 2, 3], dtype=int64)"
      ]
     },
     "execution_count": 43,
     "metadata": {},
     "output_type": "execute_result"
    }
   ],
   "source": [
    "clf.predict(X_test_moodle)"
   ]
  },
  {
   "cell_type": "code",
   "execution_count": 29,
   "metadata": {},
   "outputs": [
    {
     "data": {
      "text/plain": [
       "(10000, 784)"
      ]
     },
     "execution_count": 29,
     "metadata": {},
     "output_type": "execute_result"
    }
   ],
   "source": [
    "X_test.shape"
   ]
  },
  {
   "cell_type": "code",
   "execution_count": null,
   "metadata": {},
   "outputs": [],
   "source": []
  }
 ],
 "metadata": {
  "kernelspec": {
   "display_name": "Python 3",
   "language": "python",
   "name": "python3"
  },
  "language_info": {
   "codemirror_mode": {
    "name": "ipython",
    "version": 3
   },
   "file_extension": ".py",
   "mimetype": "text/x-python",
   "name": "python",
   "nbconvert_exporter": "python",
   "pygments_lexer": "ipython3",
   "version": "3.6.8"
  }
 },
 "nbformat": 4,
 "nbformat_minor": 2
}
