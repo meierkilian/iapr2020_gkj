{
 "cells": [
  {
   "cell_type": "markdown",
   "metadata": {},
   "source": [
    "# Let's start a MLP with Keras here\n",
    "\n",
    "### NOTE : Checker qu'on demande bien 9 (et pas 10) classes en sortie ! "
   ]
  },
  {
   "cell_type": "markdown",
   "metadata": {},
   "source": [
    "## 1) Libraries"
   ]
  },
  {
   "cell_type": "code",
   "execution_count": 1,
   "metadata": {},
   "outputs": [
    {
     "name": "stderr",
     "output_type": "stream",
     "text": [
      "Using TensorFlow backend.\n"
     ]
    }
   ],
   "source": [
    "from Classify_Symbols.classify_lib import *"
   ]
  },
  {
   "cell_type": "code",
   "execution_count": 2,
   "metadata": {},
   "outputs": [],
   "source": [
    "data_base_path = os.path.join(os.pardir, '..\\\\data')\n",
    "data_folder = 'lab-03-data'\n",
    "tar_path = os.path.join(data_base_path, data_folder + '.tar.gz')\n",
    "with tarfile.open(tar_path, mode='r:gz') as tar:\n",
    "    tar.extractall(path=data_base_path)"
   ]
  },
  {
   "cell_type": "markdown",
   "metadata": {},
   "source": [
    "## 2) Load data"
   ]
  },
  {
   "cell_type": "code",
   "execution_count": 3,
   "metadata": {},
   "outputs": [],
   "source": [
    "image_shape = (28, 28)\n",
    "train_set_size = 60000\n",
    "test_set_size = 10000\n",
    "\n",
    "data_part2_folder = os.path.join(data_base_path, data_folder, 'part2')\n",
    "\n",
    "train_images_path = os.path.join(data_part2_folder, 'train-images-idx3-ubyte.gz')\n",
    "train_labels_path = os.path.join(data_part2_folder, 'train-labels-idx1-ubyte.gz')\n",
    "test_images_path = os.path.join(data_part2_folder, 't10k-images-idx3-ubyte.gz')\n",
    "test_labels_path = os.path.join(data_part2_folder, 't10k-labels-idx1-ubyte.gz')\n",
    "\n",
    "train_images = extract_data(train_images_path, image_shape, train_set_size)\n",
    "test_images = extract_data(test_images_path, image_shape, test_set_size)\n",
    "train_labels = extract_labels(train_labels_path, train_set_size)\n",
    "test_labels = extract_labels(test_labels_path, test_set_size)"
   ]
  },
  {
   "cell_type": "code",
   "execution_count": 4,
   "metadata": {},
   "outputs": [
    {
     "name": "stdout",
     "output_type": "stream",
     "text": [
      "(60000, 28, 28) (10000, 28, 28)\n",
      "(60000,) (10000,)\n"
     ]
    }
   ],
   "source": [
    "print(train_images.shape, test_images.shape)\n",
    "print(train_labels.shape, test_labels.shape)"
   ]
  },
  {
   "cell_type": "markdown",
   "metadata": {},
   "source": [
    "### 2.2) loading pictures as Kilian feeds them to me : will be useful as a test at the end\n"
   ]
  },
  {
   "cell_type": "code",
   "execution_count": 5,
   "metadata": {},
   "outputs": [],
   "source": [
    "with open('extractedImgBIG.data', 'rb') as dataFile:  # 1) Load the data\n",
    "\tlistObj = pickle.load(dataFile)\n",
    "\n",
    "SYMBOLS_0 = (STAR_0, EQUAL_0, DIVIDE_0, PLUS_0, MINUS_0) = (0,1,4,7,8)  #to just keep the symbols (and discard the digits)\n",
    "SYMBOLS = (STAR, EQUAL, DIVIDE, PLUS, MINUS) =  np.arange(len(SYMBOLS_0))\n",
    "nb_pic = len(listObj) #number of frame with 4 symbols on each\n",
    "nb_symb = len(SYMBOLS_0)\n",
    "nb_obj = nb_pic*nb_symb\n",
    "OFT = 0 #I gonna add 4 times the symbols from moodle (in order to have more often them)\n",
    "\n",
    "digits = np.zeros( (len(SYMBOLS_0), len(listObj)+OFT, listObj[0][0]['img'].shape[0], listObj[0][0]['img'].shape[1]  ))\n",
    "\n",
    "for i in np.arange(len(listObj)):\n",
    "  for j in np.arange(len(SYMBOLS_0)):\n",
    "    digits[j, i,:,:] = listObj[i][SYMBOLS_0[j]]['img']"
   ]
  },
  {
   "cell_type": "code",
   "execution_count": 6,
   "metadata": {},
   "outputs": [],
   "source": [
    "digits = digits.reshape( (digits.shape[0]*digits.shape[1],digits.shape[2], digits.shape[3]) ).astype(bool)"
   ]
  },
  {
   "cell_type": "code",
   "execution_count": 7,
   "metadata": {},
   "outputs": [],
   "source": [
    "#plot_pic( [digits[i,:,:] for i in np.arange(digits.shape[0])], NB_COL =6 )"
   ]
  },
  {
   "cell_type": "markdown",
   "metadata": {},
   "source": [
    "## 3) Preprocess the data : \n",
    "#### 3.1) Remove the 9 labels"
   ]
  },
  {
   "cell_type": "code",
   "execution_count": 8,
   "metadata": {},
   "outputs": [
    {
     "name": "stdout",
     "output_type": "stream",
     "text": [
      "real number of train data = 54051,   real number of test data = 8991\n",
      "number of 9 in train set = 0         number of 9 in test set = 0\n"
     ]
    }
   ],
   "source": [
    "nb_data_train, nb_data_test =np.sum(~(train_labels == 9)),  np.sum(~(test_labels==9))\n",
    "print(\"real number of train data = {},   real number of test data = {}\".format(nb_data_train, nb_data_test))\n",
    "\n",
    "train_images[0:nb_data_train,:,:] = train_images[~(train_labels == 9)]\n",
    "test_images[0:nb_data_test,:,:] = test_images[~(test_labels == 9)]\n",
    "train_labels[0:nb_data_train] = train_labels[~(train_labels == 9)]\n",
    "test_labels[0:nb_data_test] = test_labels[~(test_labels == 9)]\n",
    "\n",
    "print(\"number of 9 in train set = {}         number of 9 in test set = {}\".format(\n",
    "       np.sum(train_labels[0:nb_data_train]==9) , np.sum(test_labels[0:nb_data_test]==9))) #to check there is NO 9 digits"
   ]
  },
  {
   "cell_type": "markdown",
   "metadata": {},
   "source": [
    "#### 3.2) DATA AUGMENTATION"
   ]
  },
  {
   "cell_type": "code",
   "execution_count": 9,
   "metadata": {},
   "outputs": [],
   "source": [
    "# ======================= KILIAN DATA ========================\n",
    "nb_datas = 1002\n",
    "nb_per_class = int(nb_datas/3)\n",
    "digits_exp = np.zeros( (nb_datas, digits.shape[1], digits.shape[2]) ).astype(bool)\n",
    "\n",
    "select_pic = np.random.randint(low = 0, high = 29, size = (nb_datas))\n",
    "angles_kilian = np.random.randint(low = 0, high = 180, size = nb_datas)       #integers are enough, 1 degree is very small\n",
    "trans_kilian = np.random.uniform(low = -2, high = 2, size = (nb_datas,2) )    #float as translation like 1.5 are also useful ! \n",
    "\n",
    "for i in np.arange(nb_datas):\n",
    "    T = SimilarityTransform( translation = trans_kilian[i] )\n",
    "    digits_exp[i] = rotate(digits[select_pic[i]], angles_kilian[i])\n",
    "    digits_exp[i] = warp( digits_exp[i], inverse_map = T.inverse) "
   ]
  },
  {
   "cell_type": "code",
   "execution_count": 10,
   "metadata": {},
   "outputs": [],
   "source": [
    "#plot_pic( [digits_exp[i,:,:] for i in np.arange(0,12) ], NB_COL = 6)"
   ]
  },
  {
   "cell_type": "code",
   "execution_count": 11,
   "metadata": {},
   "outputs": [],
   "source": [
    "nb_BIG_DATA = 600000 #let's try that for now --> 600 000\n",
    "nb_test_BIG_DATA = 100000 # let's try 100'000 for now\n",
    "\n",
    "# for train data\n",
    "select_train = np.random.randint(low = 0, high = nb_data_train, size = (nb_BIG_DATA))\n",
    "angles_train = np.random.randint(low = 0, high = 360, size = nb_BIG_DATA)       #integers are enough, 1 degree is very small\n",
    "trans_train = np.random.uniform(low = -1.5, high = 1.5, size = (nb_BIG_DATA,2) )    #float as translation like 1.5 are also useful ! \n",
    "# for test data\n",
    "select_test = np.random.randint(low = 0, high = nb_data_test, size = (nb_test_BIG_DATA))\n",
    "angles_test = np.random.randint(low = 0, high = 360, size = nb_test_BIG_DATA)   #integers are enough, 1 degree is very small\n",
    "trans_test = np.random.uniform(low = -1.5, high = 1.5, size = (nb_test_BIG_DATA,2) )#float as translation like 1.5 are also useful ! "
   ]
  },
  {
   "cell_type": "code",
   "execution_count": 12,
   "metadata": {},
   "outputs": [
    {
     "name": "stdout",
     "output_type": "stream",
     "text": [
      "shapes = Xtrain(600000, 28, 28)  Xtest(100000, 28, 28)  Ytrain(600000,)  Ytest(100000,) \n"
     ]
    }
   ],
   "source": [
    "train_BIG = np.zeros( (nb_BIG_DATA, 28,28 ))\n",
    "test_BIG = np.zeros( (nb_test_BIG_DATA, 28,28 ))\n",
    "y_train_BIG = np.copy(train_labels[select_train])\n",
    "y_test_BIG = np.copy(test_labels[select_test])\n",
    "\n",
    "for i in np.arange(nb_BIG_DATA):\n",
    "    T = SimilarityTransform( translation = trans_train[i] )\n",
    "    train_BIG[i,:,:] = np.copy( rotate(train_images[select_train[i]], angles_train[i]) )\n",
    "    train_BIG[i,:,:] = warp( train_BIG[i,:,:], inverse_map = T.inverse) \n",
    "    #y_train_BIG\n",
    "\n",
    "for i in np.arange(nb_test_BIG_DATA):\n",
    "    T = SimilarityTransform( translation = trans_test[i] )\n",
    "    test_BIG[i,:,:] = np.copy( rotate(test_images[select_test[i]], angles_test[i]) )\n",
    "    test_BIG[i,:,:] = warp( test_BIG[i,:,:], inverse_map = T.inverse) \n",
    "    \n",
    "print(\"shapes = Xtrain{}  Xtest{}  Ytrain{}  Ytest{} \".format(train_BIG.shape, test_BIG.shape, y_train_BIG.shape, y_test_BIG.shape))"
   ]
  },
  {
   "cell_type": "markdown",
   "metadata": {},
   "source": [
    "#### 3.3) Make binary dataset"
   ]
  },
  {
   "cell_type": "code",
   "execution_count": 13,
   "metadata": {},
   "outputs": [],
   "source": [
    "def compute_global_otsu_treshold(img):\n",
    "  threshold_global_otsu = threshold_otsu(img)\n",
    "  return np.copy(img >= threshold_global_otsu)"
   ]
  },
  {
   "cell_type": "code",
   "execution_count": 14,
   "metadata": {},
   "outputs": [
    {
     "data": {
      "image/png": "[encoded data removed]",
      "text/plain": [
       "<Figure size 864x864 with 110 Axes>"
      ]
     },
     "metadata": {
      "needs_background": "light"
     },
     "output_type": "display_data"
    }
   ],
   "source": [
    "#the treshold seems good ! \n",
    "plot_pic( [ *[train_BIG[i] for i in np.arange(30)],\n",
    "           *[compute_global_otsu_treshold(train_BIG[i]) for i in np.arange(30)]] )"
   ]
  },
  {
   "cell_type": "code",
   "execution_count": 15,
   "metadata": {},
   "outputs": [
    {
     "name": "stderr",
     "output_type": "stream",
     "text": [
      "C:\\Users\\etaxi\\Anaconda3\\envs\\keras-gpu\\lib\\site-packages\\numpy\\lib\\histograms.py:778: RuntimeWarning: Converting input from bool to <class 'numpy.uint8'> for compatibility.\n",
      "  a, weights = _ravel_and_check_weights(a, weights)\n"
     ]
    }
   ],
   "source": [
    "for i in np.arange(train_BIG.shape[0]): # for train dataset \n",
    "    train_BIG[i,:,:] = compute_global_otsu_treshold(train_BIG[i,:,:])\n",
    "for i in np.arange(test_BIG.shape[0]):  # for test dataset\n",
    "    test_BIG[i,:,:] = compute_global_otsu_treshold(test_BIG[i,:,:])\n",
    "for i in np.arange(digits_exp.shape[0]):  # for Kilian dataset\n",
    "    digits_exp[i,:,:] = compute_global_otsu_treshold(digits_exp[i,:,:])    "
   ]
  },
  {
   "cell_type": "markdown",
   "metadata": {},
   "source": [
    "# 4) Preprocess the pictures to be in the right format"
   ]
  },
  {
   "cell_type": "code",
   "execution_count": 16,
   "metadata": {
    "scrolled": true
   },
   "outputs": [
    {
     "name": "stdout",
     "output_type": "stream",
     "text": [
      "train and test data shape = (600000, 28, 28), (100000, 28, 28),   train and test labels = (600000,), (100000,)\n"
     ]
    }
   ],
   "source": [
    "# load data\n",
    "(X_train, y_train), (X_test, y_test) = (train_BIG, y_train_BIG), (test_BIG, y_test_BIG)\n",
    "print(\"train and test data shape = {}, {},   train and test labels = {}, {}\".format( X_train.shape, X_test.shape,y_train.shape, y_test.shape) )"
   ]
  },
  {
   "cell_type": "code",
   "execution_count": 21,
   "metadata": {},
   "outputs": [
    {
     "name": "stdout",
     "output_type": "stream",
     "text": [
      "Shape of X train, X test, Y train , Y test = (600000, 784),(100000, 784),(600000,),(100000,)\n"
     ]
    }
   ],
   "source": [
    "num_pixels = X_train.shape[1]*X_train.shape[2]\n",
    "#ADJUST TYPE HERE !!!\n",
    "X_train = X_train.reshape(X_train.shape[0], num_pixels).astype('uint8')\n",
    "X_test = X_test.reshape(X_test.shape[0], num_pixels).astype('uint8')\n",
    "digits_exp = digits_exp.reshape(digits_exp.shape[0], num_pixels)\n",
    "print(\"Shape of X train, X test, Y train , Y test = {},{},{},{}\".format(X_train.shape, X_test.shape,y_train.shape, y_test.shape))\n",
    "\n",
    "# normalize inputs from 0-255 to 0-1\n",
    "X_train = X_train # / 255\n",
    "X_test = X_test   #/ 255\n",
    "digits_exp = digits_exp\n",
    "\n",
    "# One hot encode output. In practive, the network returns array of size nb_classes. \n",
    "# So for instance it doesn't return '3' but [0, 0, 0, 1, 0, 0, 0, 0, 0] instead\n",
    "y_train = np_utils.to_categorical(y_train)\n",
    "y_test = np_utils.to_categorical(y_test)\n",
    "groundtruth = np.array([  *[2]*6, *[3]*6, *[7]*6, *[2]*6, *[3]*6 ])\n",
    "labels_kilian = groundtruth[select_pic]\n",
    "y_kilian = np_utils.to_categorical(labels_kilian)\n",
    "num_classes = y_test.shape[1]"
   ]
  },
  {
   "cell_type": "markdown",
   "metadata": {},
   "source": [
    "# 5) Save the full augmented dataset"
   ]
  },
  {
   "cell_type": "code",
   "execution_count": 31,
   "metadata": {},
   "outputs": [],
   "source": [
    "#import pickle\n",
    "\n",
    "with open('digits_augmented_dataset_V1.pickle', 'wb') as handle:\n",
    "    pickle.dump([X_train, y_train, X_test, y_test, digits_exp, labels_kilian], handle, protocol=pickle.HIGHEST_PROTOCOL)"
   ]
  },
  {
   "cell_type": "code",
   "execution_count": null,
   "metadata": {},
   "outputs": [],
   "source": [
    "with open('digits_augmented_dataset_V1.pickle', 'rb') as handle:\n",
    "    b = pickle.load(handle)"
   ]
  },
  {
   "cell_type": "markdown",
   "metadata": {},
   "source": [
    "### test from kilian pictures :"
   ]
  },
  {
   "cell_type": "markdown",
   "metadata": {},
   "source": [
    "# ============================================================\n",
    "# CNN \n",
    "# ============================================================"
   ]
  },
  {
   "cell_type": "code",
   "execution_count": 20,
   "metadata": {},
   "outputs": [],
   "source": [
    "from keras.models import Sequential\n",
    "from keras.layers import Dense, Conv2D, BatchNormalization, Activation\n",
    "from keras.layers import AveragePooling2D, Input, Flatten\n",
    "from keras.optimizers import Adam\n",
    "from keras.callbacks import ModelCheckpoint, LearningRateScheduler\n",
    "from keras.callbacks import ReduceLROnPlateau\n",
    "from keras.regularizers import l2\n",
    "from keras import backend as K\n",
    "from keras.models import Model"
   ]
  },
  {
   "cell_type": "code",
   "execution_count": 67,
   "metadata": {},
   "outputs": [],
   "source": [
    "#6-layer 784-40-80-500-1000-2000-10\n",
    "#6-layer 784-50-100-500-1000-10-10"
   ]
  },
  {
   "cell_type": "code",
   "execution_count": 21,
   "metadata": {},
   "outputs": [],
   "source": [
    "#create model\n",
    "def make_CNN_model(): \n",
    "  CNN_inputs = Input(shape=(28,28,1))\n",
    "  kernel_size = 3\n",
    "  K = 9 #nb_classes\n",
    "  \n",
    "  model = Sequential()\n",
    "  model.add(Conv2D(100, kernel_size=kernel_size, activation='relu', input_shape=(28,28,1)))\n",
    "  model.add(Conv2D(50, kernel_size=kernel_size, activation='relu'))\n",
    "  model.add(Conv2D(100, kernel_size=kernel_size, activation='relu'))\n",
    "  #model.add(Conv2D(500, kernel_size=kernel_size, activation='relu'))\n",
    "  #model.add(Conv2D(500, kernel_size=kernel_size, activation='relu')) #should be 1000\n",
    "  model.add(Conv2D(K, kernel_size=kernel_size, activation='relu'))\n",
    "  model.add(Flatten())\n",
    "  model.add(Dense(K, activation='softmax'))\n",
    "  #compile model using accuracy to measure model performance\n",
    "  #model = Model(inputs=CNN_inputs, outputs=y)\n",
    "  return model"
   ]
  },
  {
   "cell_type": "code",
   "execution_count": 22,
   "metadata": {},
   "outputs": [
    {
     "name": "stdout",
     "output_type": "stream",
     "text": [
      "WARNING:tensorflow:From C:\\Users\\etaxi\\Anaconda3\\envs\\keras-gpu\\lib\\site-packages\\tensorflow\\python\\framework\\op_def_library.py:263: colocate_with (from tensorflow.python.framework.ops) is deprecated and will be removed in a future version.\n",
      "Instructions for updating:\n",
      "Colocations handled automatically by placer.\n"
     ]
    }
   ],
   "source": [
    "model = make_CNN_model()\n",
    "model.compile(optimizer='adam', loss='categorical_crossentropy', metrics=['accuracy'])"
   ]
  },
  {
   "cell_type": "code",
   "execution_count": null,
   "metadata": {},
   "outputs": [
    {
     "name": "stdout",
     "output_type": "stream",
     "text": [
      "Train on 54051 samples, validate on 8991 samples\n",
      "Epoch 1/1\n",
      "39232/54051 [====================>.........] - ETA: 1:29 - loss: 0.4421 - acc: 0.8616"
     ]
    }
   ],
   "source": [
    "#model = FCN()\n",
    "#model.summary() #show the current structure of the network\n",
    "#model.summary() #show the current structure of the network\n",
    "\n",
    "X_train_CNN = np.copy( X_train.reshape( (X_train.shape[0], 28, 28, 1) ) )\n",
    "X_test_CNN =  np.copy( X_test.reshape(  (X_test.shape[0],  28, 28, 1) ) )\n",
    "\n",
    "h = model.fit( X_train_CNN, y_train, validation_data=(X_test_CNN, y_test), epochs=1, batch_size = 64, verbose=1) # ,batch_size = \n",
    "\n",
    "scores = model.evaluate(X_test_CNN, y_test, verbose=0) # Final evaluation of the model\n",
    "print(\"Baseline Error: %.2f%%\" % (100-scores[1]*100))"
   ]
  },
  {
   "cell_type": "code",
   "execution_count": null,
   "metadata": {},
   "outputs": [],
   "source": [
    "print(h.history.keys())\n",
    "accuracy = h.history['acc']\n",
    "val_accuracy = h.history['val_acc']\n",
    "loss = h.history['loss']\n",
    "val_loss = h.history['val_loss']\n",
    "epochs = range(len(accuracy))\n",
    "plt.plot(epochs, accuracy, 'blue', label='Training accuracy')\n",
    "plt.plot(epochs, val_accuracy, 'orange', label='Validation accuracy')\n",
    "plt.title('Training and validation accuracy')\n",
    "plt.legend()\n",
    "plt.show()\n",
    "plt.figure()\n",
    "plt.plot(epochs, loss, 'blue', label='Training loss')\n",
    "plt.plot(epochs, val_loss, 'orange', label='Validation loss')\n",
    "plt.title('Training and validation loss')\n",
    "plt.legend()\n",
    "plt.show()"
   ]
  },
  {
   "cell_type": "markdown",
   "metadata": {},
   "source": [
    "#### Test On augmented Kilian Dataset"
   ]
  },
  {
   "cell_type": "code",
   "execution_count": null,
   "metadata": {},
   "outputs": [],
   "source": [
    "#With augmented dataset of Kilian dataset\n",
    "digits_exp_CNN = np.copy( digits_exp.reshape( (digits_exp.shape[0], 28, 28, 1)) )\n",
    "groundtruth = np.array([  *[2]*6, *[3]*6, *[7]*6, *[2]*6, *[3]*6 ])\n",
    "groundtruth_exp = groundtruth[select_pic]\n",
    "pred = np.zeros( groundtruth_exp.shape )\n",
    "for idx, i in enumerate(model.predict(digits_exp_CNN)):\n",
    "  the_idx = np.where(i == np.amax(i))\n",
    "  pred[idx] = the_idx[0]\n",
    "print(\"nb_error with kilian dataset = \", np.sum(~(pred==groundtruth_exp)))"
   ]
  },
  {
   "cell_type": "code",
   "execution_count": null,
   "metadata": {},
   "outputs": [],
   "source": [
    "#to show the pictures for which the CNN failed :\n",
    "plot_pic( [digits_exp[i,:].reshape((28,28)) for i in indices[0] ], NB_COL = 6 )"
   ]
  },
  {
   "cell_type": "markdown",
   "metadata": {},
   "source": [
    "#### Save the model"
   ]
  },
  {
   "cell_type": "code",
   "execution_count": null,
   "metadata": {},
   "outputs": [],
   "source": [
    "model.save('CNN_wiki_small_epoch1.h5') "
   ]
  },
  {
   "cell_type": "code",
   "execution_count": null,
   "metadata": {},
   "outputs": [],
   "source": [
    "#model.save_weights(\"CNN_wiki_small_epoch1.h5\") #pro bably crap"
   ]
  },
  {
   "cell_type": "code",
   "execution_count": null,
   "metadata": {},
   "outputs": [],
   "source": [
    "from keras.models import load_model\n",
    "model = load_model('CNN_wiki_small_epoch1.h5') "
   ]
  },
  {
   "cell_type": "markdown",
   "metadata": {},
   "source": [
    "# FOR KILIAN : renvoyer des caracters directement ! "
   ]
  },
  {
   "cell_type": "code",
   "execution_count": null,
   "metadata": {},
   "outputs": [],
   "source": []
  },
  {
   "cell_type": "code",
   "execution_count": null,
   "metadata": {},
   "outputs": [],
   "source": [
    "the_pic = np.copy(digits[0])"
   ]
  },
  {
   "cell_type": "code",
   "execution_count": null,
   "metadata": {},
   "outputs": [],
   "source": [
    "the_pic = the_pic.reshape( (1, 28, 28, 1) )"
   ]
  },
  {
   "cell_type": "markdown",
   "metadata": {},
   "source": [
    "# CNN 2 : example from web :"
   ]
  },
  {
   "cell_type": "code",
   "execution_count": 73,
   "metadata": {},
   "outputs": [],
   "source": [
    "#create model\n",
    "model_web = Sequential()\n",
    "#add model layers\n",
    "model_web.add(Conv2D(64, kernel_size=3, activation='relu', input_shape=(28,28,1)))\n",
    "model_web.add(Conv2D(32, kernel_size=3, activation='relu'))\n",
    "model_web.add(Flatten())\n",
    "model_web.add(Dense(9, activation='softmax'))"
   ]
  },
  {
   "cell_type": "code",
   "execution_count": 74,
   "metadata": {},
   "outputs": [],
   "source": [
    "#compile model using accuracy to measure model performance\n",
    "model_web.compile(optimizer='adam', loss='categorical_crossentropy', metrics=['accuracy'])"
   ]
  },
  {
   "cell_type": "code",
   "execution_count": 75,
   "metadata": {},
   "outputs": [
    {
     "name": "stdout",
     "output_type": "stream",
     "text": [
      "Train on 54051 samples, validate on 8991 samples\n",
      "Epoch 1/3\n",
      "54051/54051 [==============================] - 104s 2ms/step - loss: 0.7005 - acc: 0.7709 - val_loss: 0.4538 - val_acc: 0.8573\n",
      "Epoch 2/3\n",
      " 2624/54051 [>.............................] - ETA: 1:32 - loss: 0.3790 - acc: 0.8792"
     ]
    },
    {
     "ename": "KeyboardInterrupt",
     "evalue": "",
     "output_type": "error",
     "traceback": [
      "\u001b[1;31m---------------------------------------------------------------------------\u001b[0m",
      "\u001b[1;31mKeyboardInterrupt\u001b[0m                         Traceback (most recent call last)",
      "\u001b[1;32m<ipython-input-75-69cda2efb0cd>\u001b[0m in \u001b[0;36m<module>\u001b[1;34m\u001b[0m\n\u001b[0;32m      1\u001b[0m \u001b[1;31m#train the model\u001b[0m\u001b[1;33m\u001b[0m\u001b[1;33m\u001b[0m\u001b[1;33m\u001b[0m\u001b[0m\n\u001b[1;32m----> 2\u001b[1;33m \u001b[0mmodel_web\u001b[0m\u001b[1;33m.\u001b[0m\u001b[0mfit\u001b[0m\u001b[1;33m(\u001b[0m\u001b[0mX_train_CNN\u001b[0m\u001b[1;33m,\u001b[0m \u001b[0my_train\u001b[0m\u001b[1;33m,\u001b[0m \u001b[0mvalidation_data\u001b[0m\u001b[1;33m=\u001b[0m\u001b[1;33m(\u001b[0m\u001b[0mX_test_CNN\u001b[0m\u001b[1;33m,\u001b[0m \u001b[0my_test\u001b[0m\u001b[1;33m)\u001b[0m\u001b[1;33m,\u001b[0m \u001b[0mepochs\u001b[0m\u001b[1;33m=\u001b[0m\u001b[1;36m3\u001b[0m\u001b[1;33m)\u001b[0m\u001b[1;33m\u001b[0m\u001b[1;33m\u001b[0m\u001b[0m\n\u001b[0m",
      "\u001b[1;32m~\\Anaconda3\\envs\\keras-gpu\\lib\\site-packages\\keras\\engine\\training.py\u001b[0m in \u001b[0;36mfit\u001b[1;34m(self, x, y, batch_size, epochs, verbose, callbacks, validation_split, validation_data, shuffle, class_weight, sample_weight, initial_epoch, steps_per_epoch, validation_steps, **kwargs)\u001b[0m\n\u001b[0;32m   1037\u001b[0m                                         \u001b[0minitial_epoch\u001b[0m\u001b[1;33m=\u001b[0m\u001b[0minitial_epoch\u001b[0m\u001b[1;33m,\u001b[0m\u001b[1;33m\u001b[0m\u001b[1;33m\u001b[0m\u001b[0m\n\u001b[0;32m   1038\u001b[0m                                         \u001b[0msteps_per_epoch\u001b[0m\u001b[1;33m=\u001b[0m\u001b[0msteps_per_epoch\u001b[0m\u001b[1;33m,\u001b[0m\u001b[1;33m\u001b[0m\u001b[1;33m\u001b[0m\u001b[0m\n\u001b[1;32m-> 1039\u001b[1;33m                                         validation_steps=validation_steps)\n\u001b[0m\u001b[0;32m   1040\u001b[0m \u001b[1;33m\u001b[0m\u001b[0m\n\u001b[0;32m   1041\u001b[0m     def evaluate(self, x=None, y=None,\n",
      "\u001b[1;32m~\\Anaconda3\\envs\\keras-gpu\\lib\\site-packages\\keras\\engine\\training_arrays.py\u001b[0m in \u001b[0;36mfit_loop\u001b[1;34m(model, f, ins, out_labels, batch_size, epochs, verbose, callbacks, val_f, val_ins, shuffle, callback_metrics, initial_epoch, steps_per_epoch, validation_steps)\u001b[0m\n\u001b[0;32m    197\u001b[0m                     \u001b[0mins_batch\u001b[0m\u001b[1;33m[\u001b[0m\u001b[0mi\u001b[0m\u001b[1;33m]\u001b[0m \u001b[1;33m=\u001b[0m \u001b[0mins_batch\u001b[0m\u001b[1;33m[\u001b[0m\u001b[0mi\u001b[0m\u001b[1;33m]\u001b[0m\u001b[1;33m.\u001b[0m\u001b[0mtoarray\u001b[0m\u001b[1;33m(\u001b[0m\u001b[1;33m)\u001b[0m\u001b[1;33m\u001b[0m\u001b[1;33m\u001b[0m\u001b[0m\n\u001b[0;32m    198\u001b[0m \u001b[1;33m\u001b[0m\u001b[0m\n\u001b[1;32m--> 199\u001b[1;33m                 \u001b[0mouts\u001b[0m \u001b[1;33m=\u001b[0m \u001b[0mf\u001b[0m\u001b[1;33m(\u001b[0m\u001b[0mins_batch\u001b[0m\u001b[1;33m)\u001b[0m\u001b[1;33m\u001b[0m\u001b[1;33m\u001b[0m\u001b[0m\n\u001b[0m\u001b[0;32m    200\u001b[0m                 \u001b[0mouts\u001b[0m \u001b[1;33m=\u001b[0m \u001b[0mto_list\u001b[0m\u001b[1;33m(\u001b[0m\u001b[0mouts\u001b[0m\u001b[1;33m)\u001b[0m\u001b[1;33m\u001b[0m\u001b[1;33m\u001b[0m\u001b[0m\n\u001b[0;32m    201\u001b[0m                 \u001b[1;32mfor\u001b[0m \u001b[0ml\u001b[0m\u001b[1;33m,\u001b[0m \u001b[0mo\u001b[0m \u001b[1;32min\u001b[0m \u001b[0mzip\u001b[0m\u001b[1;33m(\u001b[0m\u001b[0mout_labels\u001b[0m\u001b[1;33m,\u001b[0m \u001b[0mouts\u001b[0m\u001b[1;33m)\u001b[0m\u001b[1;33m:\u001b[0m\u001b[1;33m\u001b[0m\u001b[1;33m\u001b[0m\u001b[0m\n",
      "\u001b[1;32m~\\Anaconda3\\envs\\keras-gpu\\lib\\site-packages\\keras\\backend\\tensorflow_backend.py\u001b[0m in \u001b[0;36m__call__\u001b[1;34m(self, inputs)\u001b[0m\n\u001b[0;32m   2713\u001b[0m                 \u001b[1;32mreturn\u001b[0m \u001b[0mself\u001b[0m\u001b[1;33m.\u001b[0m\u001b[0m_legacy_call\u001b[0m\u001b[1;33m(\u001b[0m\u001b[0minputs\u001b[0m\u001b[1;33m)\u001b[0m\u001b[1;33m\u001b[0m\u001b[1;33m\u001b[0m\u001b[0m\n\u001b[0;32m   2714\u001b[0m \u001b[1;33m\u001b[0m\u001b[0m\n\u001b[1;32m-> 2715\u001b[1;33m             \u001b[1;32mreturn\u001b[0m \u001b[0mself\u001b[0m\u001b[1;33m.\u001b[0m\u001b[0m_call\u001b[0m\u001b[1;33m(\u001b[0m\u001b[0minputs\u001b[0m\u001b[1;33m)\u001b[0m\u001b[1;33m\u001b[0m\u001b[1;33m\u001b[0m\u001b[0m\n\u001b[0m\u001b[0;32m   2716\u001b[0m         \u001b[1;32melse\u001b[0m\u001b[1;33m:\u001b[0m\u001b[1;33m\u001b[0m\u001b[1;33m\u001b[0m\u001b[0m\n\u001b[0;32m   2717\u001b[0m             \u001b[1;32mif\u001b[0m \u001b[0mpy_any\u001b[0m\u001b[1;33m(\u001b[0m\u001b[0mis_tensor\u001b[0m\u001b[1;33m(\u001b[0m\u001b[0mx\u001b[0m\u001b[1;33m)\u001b[0m \u001b[1;32mfor\u001b[0m \u001b[0mx\u001b[0m \u001b[1;32min\u001b[0m \u001b[0minputs\u001b[0m\u001b[1;33m)\u001b[0m\u001b[1;33m:\u001b[0m\u001b[1;33m\u001b[0m\u001b[1;33m\u001b[0m\u001b[0m\n",
      "\u001b[1;32m~\\Anaconda3\\envs\\keras-gpu\\lib\\site-packages\\keras\\backend\\tensorflow_backend.py\u001b[0m in \u001b[0;36m_call\u001b[1;34m(self, inputs)\u001b[0m\n\u001b[0;32m   2673\u001b[0m             \u001b[0mfetched\u001b[0m \u001b[1;33m=\u001b[0m \u001b[0mself\u001b[0m\u001b[1;33m.\u001b[0m\u001b[0m_callable_fn\u001b[0m\u001b[1;33m(\u001b[0m\u001b[1;33m*\u001b[0m\u001b[0marray_vals\u001b[0m\u001b[1;33m,\u001b[0m \u001b[0mrun_metadata\u001b[0m\u001b[1;33m=\u001b[0m\u001b[0mself\u001b[0m\u001b[1;33m.\u001b[0m\u001b[0mrun_metadata\u001b[0m\u001b[1;33m)\u001b[0m\u001b[1;33m\u001b[0m\u001b[1;33m\u001b[0m\u001b[0m\n\u001b[0;32m   2674\u001b[0m         \u001b[1;32melse\u001b[0m\u001b[1;33m:\u001b[0m\u001b[1;33m\u001b[0m\u001b[1;33m\u001b[0m\u001b[0m\n\u001b[1;32m-> 2675\u001b[1;33m             \u001b[0mfetched\u001b[0m \u001b[1;33m=\u001b[0m \u001b[0mself\u001b[0m\u001b[1;33m.\u001b[0m\u001b[0m_callable_fn\u001b[0m\u001b[1;33m(\u001b[0m\u001b[1;33m*\u001b[0m\u001b[0marray_vals\u001b[0m\u001b[1;33m)\u001b[0m\u001b[1;33m\u001b[0m\u001b[1;33m\u001b[0m\u001b[0m\n\u001b[0m\u001b[0;32m   2676\u001b[0m         \u001b[1;32mreturn\u001b[0m \u001b[0mfetched\u001b[0m\u001b[1;33m[\u001b[0m\u001b[1;33m:\u001b[0m\u001b[0mlen\u001b[0m\u001b[1;33m(\u001b[0m\u001b[0mself\u001b[0m\u001b[1;33m.\u001b[0m\u001b[0moutputs\u001b[0m\u001b[1;33m)\u001b[0m\u001b[1;33m]\u001b[0m\u001b[1;33m\u001b[0m\u001b[1;33m\u001b[0m\u001b[0m\n\u001b[0;32m   2677\u001b[0m \u001b[1;33m\u001b[0m\u001b[0m\n",
      "\u001b[1;32m~\\Anaconda3\\envs\\keras-gpu\\lib\\site-packages\\tensorflow\\python\\client\\session.py\u001b[0m in \u001b[0;36m__call__\u001b[1;34m(self, *args, **kwargs)\u001b[0m\n\u001b[0;32m   1437\u001b[0m           ret = tf_session.TF_SessionRunCallable(\n\u001b[0;32m   1438\u001b[0m               \u001b[0mself\u001b[0m\u001b[1;33m.\u001b[0m\u001b[0m_session\u001b[0m\u001b[1;33m.\u001b[0m\u001b[0m_session\u001b[0m\u001b[1;33m,\u001b[0m \u001b[0mself\u001b[0m\u001b[1;33m.\u001b[0m\u001b[0m_handle\u001b[0m\u001b[1;33m,\u001b[0m \u001b[0margs\u001b[0m\u001b[1;33m,\u001b[0m \u001b[0mstatus\u001b[0m\u001b[1;33m,\u001b[0m\u001b[1;33m\u001b[0m\u001b[1;33m\u001b[0m\u001b[0m\n\u001b[1;32m-> 1439\u001b[1;33m               run_metadata_ptr)\n\u001b[0m\u001b[0;32m   1440\u001b[0m         \u001b[1;32mif\u001b[0m \u001b[0mrun_metadata\u001b[0m\u001b[1;33m:\u001b[0m\u001b[1;33m\u001b[0m\u001b[1;33m\u001b[0m\u001b[0m\n\u001b[0;32m   1441\u001b[0m           \u001b[0mproto_data\u001b[0m \u001b[1;33m=\u001b[0m \u001b[0mtf_session\u001b[0m\u001b[1;33m.\u001b[0m\u001b[0mTF_GetBuffer\u001b[0m\u001b[1;33m(\u001b[0m\u001b[0mrun_metadata_ptr\u001b[0m\u001b[1;33m)\u001b[0m\u001b[1;33m\u001b[0m\u001b[1;33m\u001b[0m\u001b[0m\n",
      "\u001b[1;31mKeyboardInterrupt\u001b[0m: "
     ]
    }
   ],
   "source": [
    "#train the model\n",
    "model_web.fit(X_train_CNN, y_train, validation_data=(X_test_CNN, y_test), epochs=3)"
   ]
  },
  {
   "cell_type": "markdown",
   "metadata": {},
   "source": [
    "# ============================================================\n",
    "# ======    NOTHING INTERESTING HERE FOR NOW !!!\n",
    "\n",
    "# ============================================================"
   ]
  },
  {
   "cell_type": "markdown",
   "metadata": {},
   "source": [
    "# Let's start over here"
   ]
  },
  {
   "cell_type": "code",
   "execution_count": 51,
   "metadata": {},
   "outputs": [],
   "source": [
    "def resnet_layer(inputs,\n",
    "                 num_filters=16,\n",
    "                 kernel_size=3,                \n",
    "                 strides=1,\n",
    "                 activation='relu',\n",
    "                 batch_normalization=True,\n",
    "                 conv_first=True):\n",
    "    \"\"\"2D Convolution-Batch Normalization-Activation stack builder\n",
    "\n",
    "    # Arguments\n",
    "        inputs (tensor): input tensor from input image or previous layer\n",
    "        num_filters (int): Conv2D number of filters\n",
    "        kernel_size (int): Conv2D square kernel dimensions\n",
    "        strides (int): Conv2D square stride dimensions\n",
    "        activation (string): activation function (relu, sigmoid, etc.)\n",
    "        batch_normalization (bool): whether to include batch normalization\n",
    "        conv_first (bool): conv-bn-activation (True) or\n",
    "            bn-activation-conv (False)\n",
    "\n",
    "    # Returns\n",
    "        x (tensor): tensor as input to the next layer\n",
    "    \"\"\"\n",
    "    conv = Conv2D(num_filters,\n",
    "                  kernel_size=kernel_size,\n",
    "                  strides=strides,\n",
    "                  padding='same',\n",
    "                  kernel_initializer='he_normal',\n",
    "                  kernel_regularizer=l2(1e-4))\n",
    "\n",
    "    x = inputs\n",
    "    #2 possibilities : \n",
    "    # 1) First convolute, then normalize\n",
    "    # 2) First normalize, then convolute\n",
    "    if conv_first:\n",
    "        x = conv(x)\n",
    "        if batch_normalization:\n",
    "            x = BatchNormalization()(x)\n",
    "        if activation is not None:\n",
    "            x = Activation(activation)(x)\n",
    "    else:\n",
    "        if batch_normalization:\n",
    "            x = BatchNormalization()(x)\n",
    "        if activation is not None:\n",
    "            x = Activation(activation)(x)\n",
    "        x = conv(x)\n",
    "    return x"
   ]
  },
  {
   "cell_type": "code",
   "execution_count": 63,
   "metadata": {},
   "outputs": [],
   "source": [
    "CNN_input_shape = (28,28,1)\n",
    "CNN_inputs = Input(shape=CNN_input_shape)\n",
    "\n",
    "# start building the CNN structure \n",
    "activation='relu'\n",
    "strides = 1\n",
    "kernel_size = 1\n",
    "nb_filters_out = 32\n",
    "batch_normalization = False\n",
    "\n",
    "# y = picture we transform in the block\n",
    "y = resnet_layer(inputs=CNN_inputs,\n",
    "                 num_filters=nb_filters_out,\n",
    "                 kernel_size=kernel_size,\n",
    "                 strides=strides,\n",
    "                 activation=activation,\n",
    "                 batch_normalization=batch_normalization,\n",
    "                 conv_first=True)\n",
    "y = resnet_layer(inputs=y,\n",
    "                 num_filters=nb_filters_out,\n",
    "                 kernel_size=kernel_size,\n",
    "                 strides=strides,\n",
    "                 activation=activation,\n",
    "                 batch_normalization=batch_normalization,\n",
    "                 conv_first=True)\n",
    "y = resnet_layer(inputs=y,\n",
    "                 num_filters=nb_filters_out,\n",
    "                 kernel_size=kernel_size,\n",
    "                 strides=strides,\n",
    "                 activation=None,\n",
    "                 batch_normalization=batch_normalization,\n",
    "                 conv_first=True)\n",
    "\n",
    "y = Dense(9, activation='softmax', kernel_initializer='he_normal')(y) #K = nb_class = 9\n",
    "\n",
    "model = Model(inputs=CNN_inputs, outputs=y)  #model = Model(inputs=inputs, outputs=[x,y])\n",
    "\n",
    "# end of CNN structure\n",
    "#output1 = residual_block( the_inputs, nb_filters_out = 24, kernel_size = 5 )\n",
    "\n",
    "model.compile(loss='categorical_crossentropy', optimizer='adam', metrics=['accuracy'])"
   ]
  },
  {
   "cell_type": "code",
   "execution_count": 64,
   "metadata": {},
   "outputs": [
    {
     "data": {
      "text/plain": [
       "(8991, 28, 28, 1)"
      ]
     },
     "execution_count": 64,
     "metadata": {},
     "output_type": "execute_result"
    }
   ],
   "source": [
    "X_test_CNN.shape"
   ]
  },
  {
   "cell_type": "code",
   "execution_count": 65,
   "metadata": {},
   "outputs": [
    {
     "ename": "ValueError",
     "evalue": "Error when checking target: expected dense_7 to have 4 dimensions, but got array with shape (54051, 9)",
     "output_type": "error",
     "traceback": [
      "\u001b[1;31m---------------------------------------------------------------------------\u001b[0m",
      "\u001b[1;31mValueError\u001b[0m                                Traceback (most recent call last)",
      "\u001b[1;32m<ipython-input-65-50eeb2fab65e>\u001b[0m in \u001b[0;36m<module>\u001b[1;34m\u001b[0m\n\u001b[0;32m      3\u001b[0m \u001b[0mX_CNN\u001b[0m \u001b[1;33m=\u001b[0m \u001b[0mnp\u001b[0m\u001b[1;33m.\u001b[0m\u001b[0mcopy\u001b[0m\u001b[1;33m(\u001b[0m \u001b[0mX_train\u001b[0m\u001b[1;33m.\u001b[0m\u001b[0mreshape\u001b[0m\u001b[1;33m(\u001b[0m \u001b[1;33m(\u001b[0m\u001b[0mX_train\u001b[0m\u001b[1;33m.\u001b[0m\u001b[0mshape\u001b[0m\u001b[1;33m[\u001b[0m\u001b[1;36m0\u001b[0m\u001b[1;33m]\u001b[0m\u001b[1;33m,\u001b[0m \u001b[1;36m28\u001b[0m\u001b[1;33m,\u001b[0m \u001b[1;36m28\u001b[0m\u001b[1;33m,\u001b[0m \u001b[1;36m1\u001b[0m\u001b[1;33m)\u001b[0m \u001b[1;33m)\u001b[0m \u001b[1;33m)\u001b[0m\u001b[1;33m\u001b[0m\u001b[1;33m\u001b[0m\u001b[0m\n\u001b[0;32m      4\u001b[0m \u001b[0mX_test_CNN\u001b[0m \u001b[1;33m=\u001b[0m  \u001b[0mnp\u001b[0m\u001b[1;33m.\u001b[0m\u001b[0mcopy\u001b[0m\u001b[1;33m(\u001b[0m \u001b[0mX_test\u001b[0m\u001b[1;33m.\u001b[0m\u001b[0mreshape\u001b[0m\u001b[1;33m(\u001b[0m \u001b[1;33m(\u001b[0m\u001b[0mX_test\u001b[0m\u001b[1;33m.\u001b[0m\u001b[0mshape\u001b[0m\u001b[1;33m[\u001b[0m\u001b[1;36m0\u001b[0m\u001b[1;33m]\u001b[0m\u001b[1;33m,\u001b[0m \u001b[1;36m28\u001b[0m\u001b[1;33m,\u001b[0m \u001b[1;36m28\u001b[0m\u001b[1;33m,\u001b[0m \u001b[1;36m1\u001b[0m\u001b[1;33m)\u001b[0m \u001b[1;33m)\u001b[0m \u001b[1;33m)\u001b[0m\u001b[1;33m\u001b[0m\u001b[1;33m\u001b[0m\u001b[0m\n\u001b[1;32m----> 5\u001b[1;33m \u001b[0mh\u001b[0m \u001b[1;33m=\u001b[0m \u001b[0mmodel\u001b[0m\u001b[1;33m.\u001b[0m\u001b[0mfit\u001b[0m\u001b[1;33m(\u001b[0m\u001b[0mX_CNN\u001b[0m\u001b[1;33m,\u001b[0m \u001b[0my_train\u001b[0m\u001b[1;33m,\u001b[0m \u001b[0mvalidation_data\u001b[0m\u001b[1;33m=\u001b[0m\u001b[1;33m(\u001b[0m\u001b[0mX_test_CNN\u001b[0m\u001b[1;33m,\u001b[0m \u001b[0my_test\u001b[0m\u001b[1;33m)\u001b[0m\u001b[1;33m,\u001b[0m \u001b[0mepochs\u001b[0m\u001b[1;33m=\u001b[0m\u001b[1;36m10\u001b[0m\u001b[1;33m,\u001b[0m \u001b[0mbatch_size\u001b[0m\u001b[1;33m=\u001b[0m\u001b[1;36m200\u001b[0m\u001b[1;33m,\u001b[0m \u001b[0mverbose\u001b[0m\u001b[1;33m=\u001b[0m\u001b[1;36m2\u001b[0m\u001b[1;33m)\u001b[0m \u001b[1;31m# Fit the model\u001b[0m\u001b[1;33m\u001b[0m\u001b[1;33m\u001b[0m\u001b[0m\n\u001b[0m\u001b[0;32m      6\u001b[0m \u001b[1;33m\u001b[0m\u001b[0m\n\u001b[0;32m      7\u001b[0m \u001b[0mscores\u001b[0m \u001b[1;33m=\u001b[0m \u001b[0mmodel\u001b[0m\u001b[1;33m.\u001b[0m\u001b[0mevaluate\u001b[0m\u001b[1;33m(\u001b[0m\u001b[0mX_test\u001b[0m\u001b[1;33m,\u001b[0m \u001b[0my_test\u001b[0m\u001b[1;33m,\u001b[0m \u001b[0mverbose\u001b[0m\u001b[1;33m=\u001b[0m\u001b[1;36m0\u001b[0m\u001b[1;33m)\u001b[0m \u001b[1;31m# Final evaluation of the model\u001b[0m\u001b[1;33m\u001b[0m\u001b[1;33m\u001b[0m\u001b[0m\n",
      "\u001b[1;32m~\\Anaconda3\\envs\\keras-gpu\\lib\\site-packages\\keras\\engine\\training.py\u001b[0m in \u001b[0;36mfit\u001b[1;34m(self, x, y, batch_size, epochs, verbose, callbacks, validation_split, validation_data, shuffle, class_weight, sample_weight, initial_epoch, steps_per_epoch, validation_steps, **kwargs)\u001b[0m\n\u001b[0;32m    950\u001b[0m             \u001b[0msample_weight\u001b[0m\u001b[1;33m=\u001b[0m\u001b[0msample_weight\u001b[0m\u001b[1;33m,\u001b[0m\u001b[1;33m\u001b[0m\u001b[1;33m\u001b[0m\u001b[0m\n\u001b[0;32m    951\u001b[0m             \u001b[0mclass_weight\u001b[0m\u001b[1;33m=\u001b[0m\u001b[0mclass_weight\u001b[0m\u001b[1;33m,\u001b[0m\u001b[1;33m\u001b[0m\u001b[1;33m\u001b[0m\u001b[0m\n\u001b[1;32m--> 952\u001b[1;33m             batch_size=batch_size)\n\u001b[0m\u001b[0;32m    953\u001b[0m         \u001b[1;31m# Prepare validation data.\u001b[0m\u001b[1;33m\u001b[0m\u001b[1;33m\u001b[0m\u001b[1;33m\u001b[0m\u001b[0m\n\u001b[0;32m    954\u001b[0m         \u001b[0mdo_validation\u001b[0m \u001b[1;33m=\u001b[0m \u001b[1;32mFalse\u001b[0m\u001b[1;33m\u001b[0m\u001b[1;33m\u001b[0m\u001b[0m\n",
      "\u001b[1;32m~\\Anaconda3\\envs\\keras-gpu\\lib\\site-packages\\keras\\engine\\training.py\u001b[0m in \u001b[0;36m_standardize_user_data\u001b[1;34m(self, x, y, sample_weight, class_weight, check_array_lengths, batch_size)\u001b[0m\n\u001b[0;32m    787\u001b[0m                 \u001b[0mfeed_output_shapes\u001b[0m\u001b[1;33m,\u001b[0m\u001b[1;33m\u001b[0m\u001b[1;33m\u001b[0m\u001b[0m\n\u001b[0;32m    788\u001b[0m                 \u001b[0mcheck_batch_axis\u001b[0m\u001b[1;33m=\u001b[0m\u001b[1;32mFalse\u001b[0m\u001b[1;33m,\u001b[0m  \u001b[1;31m# Don't enforce the batch size.\u001b[0m\u001b[1;33m\u001b[0m\u001b[1;33m\u001b[0m\u001b[0m\n\u001b[1;32m--> 789\u001b[1;33m                 exception_prefix='target')\n\u001b[0m\u001b[0;32m    790\u001b[0m \u001b[1;33m\u001b[0m\u001b[0m\n\u001b[0;32m    791\u001b[0m             \u001b[1;31m# Generate sample-wise weight values given the `sample_weight` and\u001b[0m\u001b[1;33m\u001b[0m\u001b[1;33m\u001b[0m\u001b[1;33m\u001b[0m\u001b[0m\n",
      "\u001b[1;32m~\\Anaconda3\\envs\\keras-gpu\\lib\\site-packages\\keras\\engine\\training_utils.py\u001b[0m in \u001b[0;36mstandardize_input_data\u001b[1;34m(data, names, shapes, check_batch_axis, exception_prefix)\u001b[0m\n\u001b[0;32m    126\u001b[0m                         \u001b[1;34m': expected '\u001b[0m \u001b[1;33m+\u001b[0m \u001b[0mnames\u001b[0m\u001b[1;33m[\u001b[0m\u001b[0mi\u001b[0m\u001b[1;33m]\u001b[0m \u001b[1;33m+\u001b[0m \u001b[1;34m' to have '\u001b[0m \u001b[1;33m+\u001b[0m\u001b[1;33m\u001b[0m\u001b[1;33m\u001b[0m\u001b[0m\n\u001b[0;32m    127\u001b[0m                         \u001b[0mstr\u001b[0m\u001b[1;33m(\u001b[0m\u001b[0mlen\u001b[0m\u001b[1;33m(\u001b[0m\u001b[0mshape\u001b[0m\u001b[1;33m)\u001b[0m\u001b[1;33m)\u001b[0m \u001b[1;33m+\u001b[0m \u001b[1;34m' dimensions, but got array '\u001b[0m\u001b[1;33m\u001b[0m\u001b[1;33m\u001b[0m\u001b[0m\n\u001b[1;32m--> 128\u001b[1;33m                         'with shape ' + str(data_shape))\n\u001b[0m\u001b[0;32m    129\u001b[0m                 \u001b[1;32mif\u001b[0m \u001b[1;32mnot\u001b[0m \u001b[0mcheck_batch_axis\u001b[0m\u001b[1;33m:\u001b[0m\u001b[1;33m\u001b[0m\u001b[1;33m\u001b[0m\u001b[0m\n\u001b[0;32m    130\u001b[0m                     \u001b[0mdata_shape\u001b[0m \u001b[1;33m=\u001b[0m \u001b[0mdata_shape\u001b[0m\u001b[1;33m[\u001b[0m\u001b[1;36m1\u001b[0m\u001b[1;33m:\u001b[0m\u001b[1;33m]\u001b[0m\u001b[1;33m\u001b[0m\u001b[1;33m\u001b[0m\u001b[0m\n",
      "\u001b[1;31mValueError\u001b[0m: Error when checking target: expected dense_7 to have 4 dimensions, but got array with shape (54051, 9)"
     ]
    }
   ],
   "source": [
    "#model = FCN()\n",
    "#model.summary() #show the current structure of the network\n",
    "X_CNN = np.copy( X_train.reshape( (X_train.shape[0], 28, 28, 1) ) )\n",
    "X_test_CNN =  np.copy( X_test.reshape( (X_test.shape[0], 28, 28, 1) ) )\n",
    "h = model.fit(X_CNN, y_train, validation_data=(X_test_CNN, y_test), epochs=10, batch_size=200, verbose=2) # Fit the model\n",
    "\n",
    "scores = model.evaluate(X_test, y_test, verbose=0) # Final evaluation of the model\n",
    "print(\"Baseline Error: %.2f%%\" % (100-scores[1]*100))"
   ]
  },
  {
   "cell_type": "code",
   "execution_count": null,
   "metadata": {},
   "outputs": [],
   "source": [
    "def residual_block(inputs, nb_filters_out = 32 , activation = 'relu', batch_normalization = 'true', kernel_size = 5):\n",
    "    \"\"\"Residual_block\n",
    "\n",
    "    # Arguments\n",
    "        input_shape (tensor): shape of input image tensor\n",
    "        depth (int): number of core convolutional layers\n",
    "\n",
    "    # Returns\n",
    "        model (Model): Keras model instance\n",
    "    \"\"\"\n",
    "    \n",
    "    #Need to remove this from here later\n",
    "    strides = 1\n",
    "    kernel_size_res = 1\n",
    "    \n",
    "    # x = residual of the block\n",
    "    x = resnet_layer(inputs=inputs,\n",
    "                     num_filters=nb_filters_out,\n",
    "                     kernel_size=kernel_size_res,\n",
    "                     strides=strides,\n",
    "                     activation=None,\n",
    "                     batch_normalization=batch_normalization,\n",
    "                     conv_first=False)\n",
    "    \n",
    "    # y = picture we transform in the block\n",
    "    y = resnet_layer(inputs=inputs,\n",
    "                     num_filters=nb_filters_out,\n",
    "                     kernel_size=kernel_size,\n",
    "                     strides=strides,\n",
    "                     activation=activation,\n",
    "                     batch_normalization=batch_normalization,\n",
    "                     conv_first=True)\n",
    "    y = resnet_layer(inputs=y,\n",
    "                     num_filters=nb_filters_out,\n",
    "                     kernel_size=kernel_size,\n",
    "                     strides=strides,\n",
    "                     activation=activation,\n",
    "                     batch_normalization=batch_normalization,\n",
    "                     conv_first=True)\n",
    "    y = resnet_layer(inputs=y,\n",
    "                     num_filters=nb_filters_out,\n",
    "                     kernel_size=kernel_size,\n",
    "                     strides=strides,\n",
    "                     activation=None,\n",
    "                     batch_normalization=batch_normalization,\n",
    "                     conv_first=True)\n",
    "    \n",
    "    x = keras.layers.add([x, y])\n",
    "    x = resnet_layer(inputs = x,          \n",
    "                    num_filters = nb_filters_out, #For now, the whole block will end up with nb_filters_out filters\n",
    "                    kernel_size = kernel_size,\n",
    "                    strides = strides,\n",
    "                    activation = activation, #Before : None\n",
    "                    batch_normalization = False)\n",
    "\n",
    "    return x \n",
    "    \n",
    "    #Instatiate model : \n",
    "    #model = Model(inputs=inputs, outputs=x)\n",
    "    #return model\n"
   ]
  }
 ],
 "metadata": {
  "kernelspec": {
   "display_name": "Python 3",
   "language": "python",
   "name": "python3"
  },
  "language_info": {
   "codemirror_mode": {
    "name": "ipython",
    "version": 3
   },
   "file_extension": ".py",
   "mimetype": "text/x-python",
   "name": "python",
   "nbconvert_exporter": "python",
   "pygments_lexer": "ipython3",
   "version": "3.6.8"
  }
 },
 "nbformat": 4,
 "nbformat_minor": 2
}
