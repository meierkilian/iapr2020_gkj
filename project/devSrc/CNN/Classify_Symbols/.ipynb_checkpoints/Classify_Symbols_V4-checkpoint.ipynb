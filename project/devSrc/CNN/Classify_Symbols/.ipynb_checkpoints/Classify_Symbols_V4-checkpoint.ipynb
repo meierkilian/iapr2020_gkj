{
 "cells": [
  {
   "cell_type": "code",
   "execution_count": 1,
   "metadata": {},
   "outputs": [
    {
     "name": "stderr",
     "output_type": "stream",
     "text": [
      "In C:\\Users\\etaxi\\Anaconda3\\envs\\keras-gpu\\lib\\site-packages\\matplotlib\\mpl-data\\stylelib\\_classic_test.mplstyle: \n",
      "The savefig.frameon rcparam was deprecated in Matplotlib 3.1 and will be removed in 3.3.\n",
      "In C:\\Users\\etaxi\\Anaconda3\\envs\\keras-gpu\\lib\\site-packages\\matplotlib\\mpl-data\\stylelib\\_classic_test.mplstyle: \n",
      "The verbose.level rcparam was deprecated in Matplotlib 3.1 and will be removed in 3.3.\n",
      "In C:\\Users\\etaxi\\Anaconda3\\envs\\keras-gpu\\lib\\site-packages\\matplotlib\\mpl-data\\stylelib\\_classic_test.mplstyle: \n",
      "The verbose.fileo rcparam was deprecated in Matplotlib 3.1 and will be removed in 3.3.\n"
     ]
    }
   ],
   "source": [
    "from classify_lib import *"
   ]
  },
  {
   "cell_type": "markdown",
   "metadata": {},
   "source": [
    "# Classify Symbols (with updated dataset) : \n",
    "Kilian has generated several pictures. Let's try to compute their features and to classify them properly\n"
   ]
  },
  {
   "cell_type": "markdown",
   "metadata": {},
   "source": [
    "## 1) Data From Kilian\n",
    "### 1.0) Look at the data"
   ]
  },
  {
   "cell_type": "code",
   "execution_count": 45,
   "metadata": {},
   "outputs": [],
   "source": [
    "with open('../extractedImgBIG.data', 'rb') as dataFile:  # 1) Load the data\n",
    "\tlistObj = pickle.load(dataFile)\n",
    "\n",
    "SYMBOLS_0 = (STAR_0, EQUAL_0, DIVIDE_0, PLUS_0, MINUS_0) = (2,3,6,9,3)  #to just keep the symbols (and discard the digits)\n",
    "SYMBOLS = (STAR, EQUAL, DIVIDE, PLUS, MINUS) =  np.arange(len(SYMBOLS_0))\n",
    "nb_pic = len(listObj) #number of frame with 4 symbols on each\n",
    "nb_symb = len(SYMBOLS_0)\n",
    "nb_obj = nb_pic*nb_symb\n",
    "\n",
    "data = np.zeros( (len(SYMBOLS_0), len(listObj), listObj[0][0]['img'].shape[0], listObj[0][0]['img'].shape[1]  ))\n",
    "\n",
    "for i in np.arange(len(listObj)):\n",
    "  for j in np.arange(len(SYMBOLS_0)):\n",
    "    data[j, i,:,:] = listObj[i][SYMBOLS_0[j]]['img']"
   ]
  },
  {
   "cell_type": "code",
   "execution_count": 46,
   "metadata": {},
   "outputs": [],
   "source": [
    "# CREATING THE '-' PICTURES\n",
    "# Note : I'll pick the middle bar of the DIVIDE symbol to make the '-' symbol. \n",
    "for i in np.arange(nb_pic):\n",
    "  data[MINUS,i] = np.zeros(data[MINUS,i].shape)\n",
    "  beg, end = 10,20 #  7=point above appears,   [12:16]=middle bar,   22=point below appears\n",
    "  data[MINUS,i,beg:end,:] = data[DIVIDE,i,beg:end,:] "
   ]
  },
  {
   "cell_type": "code",
   "execution_count": 47,
   "metadata": {},
   "outputs": [
    {
     "data": {
      "image/png": "[encoded data removed]",
      "text/plain": [
       "<Figure size 864x864 with 36 Axes>"
      ]
     },
     "metadata": {
      "needs_background": "light"
     },
     "output_type": "display_data"
    }
   ],
   "source": [
    "# --- If you want to plot now : \n",
    "#plot_pic([data[j,i] for j in np.arange(nb_symb) for i in np.arange(nb_data)])\n",
    "\n",
    "# --- Actually, let's just reshape, it's gonna be easier to plot the points : \n",
    "# --- If you want to plot after the reshape : \n",
    "data = data.reshape( (data.shape[0]*data.shape[1],data.shape[2], data.shape[3]) ).astype(bool)\n",
    "plot_pic([data[j*6+i] for j in np.arange(nb_symb) for i in np.arange(nb_pic)])"
   ]
  },
  {
   "cell_type": "markdown",
   "metadata": {},
   "source": [
    "### 1.1) Compute every features"
   ]
  },
  {
   "cell_type": "code",
   "execution_count": 145,
   "metadata": {},
   "outputs": [],
   "source": [
    "nb_feat = 5\n",
    "FEAT = (NB_OBJ, AREA, FOURIER, PERIM, COMPACT ) = np.arange(nb_feat)\n",
    "feat_str = {NB_OBJ:'NB_OBJ', AREA : 'AREA', FOURIER : 'FOURIER_DESCRIPTOR', PERIM : 'PERIMETER', COMPACT : 'COMPACTNESS'}\n",
    "X = np.zeros( ( data.shape[0], nb_feat))  #X will contain the feature for each symbol\n",
    "\n",
    "for i in np.arange(data.shape[0]):\n",
    "  X[i,0:2] = compute_nb_objects(data[i])\n",
    "  X[i,FOURIER],_,_ = compute_feat_with_fourier_descriptor(data[i], feat_n = 1)\n",
    "  X[i,FOURIER]*=300 # to avoid normalization -->maybe remove !!!?? \n",
    "  X[i,PERIM] = perimeter(data[i])\n",
    "  X[i, COMPACT] = X[i,AREA]*np.pi*4/( (X[i,PERIM]**2) )"
   ]
  },
  {
   "cell_type": "markdown",
   "metadata": {},
   "source": [
    "### 1.2) Plot the datas\n",
    "\n",
    "#### 1) THE NB OF OBJECT IS ENOUGH TO FIND THE '=' and the 'Divide' symbols !"
   ]
  },
  {
   "cell_type": "code",
   "execution_count": 146,
   "metadata": {},
   "outputs": [
    {
     "data": {
      "image/png": "[encoded data removed]",
      "text/plain": [
       "<Figure size 432x288 with 1 Axes>"
      ]
     },
     "metadata": {
      "needs_background": "light"
     },
     "output_type": "display_data"
    }
   ],
   "source": [
    "FEAT1, FEAT2 = NB_OBJ, AREA\n",
    "colors = ['blue', 'red', 'yellow', 'purple', 'black']\n",
    "for i in np.arange(nb_symb):\n",
    "  plt.scatter(X[nb_pic*i:nb_pic*(i+1),FEAT1], X[nb_pic*i:nb_pic*(i+1),FEAT2], color=colors[i]) \n",
    "plt.xlabel(feat_str[FEAT1])\n",
    "plt.ylabel(feat_str[FEAT2])\n",
    "plt.legend((\"*\",\"=\",':','+','-'))\n",
    "plt.show()"
   ]
  },
  {
   "cell_type": "markdown",
   "metadata": {},
   "source": [
    "#### 2) The area seems the most promising feature for now"
   ]
  },
  {
   "cell_type": "code",
   "execution_count": 148,
   "metadata": {},
   "outputs": [
    {
     "data": {
      "image/png": "[encoded data removed]",
      "text/plain": [
       "<Figure size 432x288 with 1 Axes>"
      ]
     },
     "metadata": {
      "needs_background": "light"
     },
     "output_type": "display_data"
    }
   ],
   "source": [
    "FEAT1, FEAT2 = AREA, FOURIER\n",
    "colors = ['blue', 'red', 'yellow', 'purple', 'black']\n",
    "for i in [STAR,PLUS,MINUS]:\n",
    "  plt.scatter(X[nb_pic*i:nb_pic*(i+1),FEAT1], X[nb_pic*i:nb_pic*(i+1),FEAT2], color=colors[i]) \n",
    "plt.xlabel(feat_str[FEAT1])\n",
    "plt.ylabel(feat_str[FEAT2])\n",
    "plt.legend((\"*\",'+','-'))\n",
    "plt.show()"
   ]
  },
  {
   "cell_type": "markdown",
   "metadata": {},
   "source": [
    "### 1.3) Compute the classifier"
   ]
  },
  {
   "cell_type": "code",
   "execution_count": 407,
   "metadata": {},
   "outputs": [],
   "source": [
    "from sklearn.discriminant_analysis import LinearDiscriminantAnalysis"
   ]
  },
  {
   "cell_type": "code",
   "execution_count": 408,
   "metadata": {},
   "outputs": [],
   "source": [
    "f1,f2 = 1,3 #Area and Fourier Descriptor\n",
    "a,b,c = X[STAR*nb_pic:(STAR+1)*nb_pic, f1:f2], X[PLUS*nb_pic:(PLUS+1)*nb_pic, f1:f2], X[MINUS*nb_pic:(MINUS+1)*nb_pic, f1:f2]\n",
    "Xready = np.concatenate( (a,b,c), axis = 0)\n",
    "yready = *[1]*6, *[2]*6, *[3]*6 \n",
    "yready = np.array(yready)"
   ]
  },
  {
   "cell_type": "code",
   "execution_count": 414,
   "metadata": {},
   "outputs": [
    {
     "data": {
      "text/plain": [
       "LinearDiscriminantAnalysis(n_components=None, priors=None, shrinkage=None,\n",
       "                           solver='svd', store_covariance=False, tol=0.0001)"
      ]
     },
     "execution_count": 414,
     "metadata": {},
     "output_type": "execute_result"
    }
   ],
   "source": [
    "clf = LinearDiscriminantAnalysis()\n",
    "#clf.fit(Xready, yready)\n",
    "\n",
    "#let's try with the area only :\n",
    "X2 = np.zeros( (18,1) )\n",
    "X2 = Xready[:,0].reshape(-1,1) #somehow needed for using LDA with only 1 feature          # 0 = ONLY AREA\n",
    "#X2[:,1] = Xready[:,1]\n",
    "clf.fit(X2, yready)"
   ]
  },
  {
   "cell_type": "code",
   "execution_count": 415,
   "metadata": {},
   "outputs": [
    {
     "data": {
      "text/plain": [
       "array([1, 1, 1, 1, 1, 1, 2, 2, 2, 2, 2, 2, 3, 3, 3, 3, 3, 3])"
      ]
     },
     "execution_count": 415,
     "metadata": {},
     "output_type": "execute_result"
    }
   ],
   "source": [
    "clf.predict(X2)"
   ]
  },
  {
   "cell_type": "markdown",
   "metadata": {},
   "source": [
    "### 1.4) CHECK THE CONTOUR !!! "
   ]
  },
  {
   "cell_type": "code",
   "execution_count": 158,
   "metadata": {},
   "outputs": [
    {
     "data": {
      "image/png": "[encoded data removed]",
      "text/plain": [
       "<Figure size 720x720 with 30 Axes>"
      ]
     },
     "metadata": {
      "needs_background": "light"
     },
     "output_type": "display_data"
    }
   ],
   "source": [
    "# ===============  display results : the contours are perfect !    ===============  \n",
    "feats, snakes, ims = [ None for i in data[:,0,0]],  [ None for i in data[:,0,0]],  [ None for i in data[:,0,0]]\n",
    "feat = 1\n",
    "fig, axes = plt.subplots(nrows=5, ncols=6, figsize=(10,10), sharex=True, sharey=True)\n",
    "ax = axes.ravel()\n",
    "for i in np.arange(data.shape[0]):\n",
    "  feats[i], snakes[i], ims[i] = compute_feat_with_fourier_descriptor(data[i], feat)\n",
    "\n",
    "  ax[i].plot(snakes[i][:,1], snakes[i][:,0], '-b', lw=3)\n",
    "  ax[i].imshow(ims[i])\n",
    "  ax[i].set_title(\"Original\")\n",
    "for a in ax:\n",
    "    a.axis('off')"
   ]
  },
  {
   "cell_type": "markdown",
   "metadata": {},
   "source": [
    "# 2) DATA EXPANSION"
   ]
  },
  {
   "cell_type": "code",
   "execution_count": 462,
   "metadata": {},
   "outputs": [],
   "source": [
    "from skimage.transform import rotate\n",
    "from skimage.transform import warp\n",
    "from skimage.transform import SimilarityTransform\n",
    "\n",
    "nb_datas = 900\n",
    "nb_per_class = int(nb_datas/3)\n",
    "data_exp = np.zeros( (nb_datas, data.shape[1], data.shape[2]) ).astype(bool)\n",
    "\n",
    "select_pic = np.random.randint(low = 0, high = 5, size = (nb_datas))\n",
    "angles = np.random.randint(low = 0, high = 180, size = nb_datas)       #integers are enough, 1 degree is very small\n",
    "trans = np.random.uniform(low = -3, high = 3, size = (nb_datas,2) )    #float as translation like 1.5 are also useful ! "
   ]
  },
  {
   "cell_type": "code",
   "execution_count": 463,
   "metadata": {},
   "outputs": [],
   "source": [
    "for i in np.arange(nb_per_class):\n",
    "  T = SimilarityTransform( translation = trans[i] )\n",
    "  data_exp[i] = rotate(data[select_pic[i]], angles[i])\n",
    "  data_exp[i] = warp( data_exp[i], inverse_map = T.inverse) \n",
    "  \n",
    "for i in np.arange(nb_per_class,2*nb_per_class):\n",
    "  T = SimilarityTransform( translation = trans[i] )\n",
    "  data_exp[i] = rotate(data[select_pic[i]+18], angles[i])\n",
    "  data_exp[i] = warp( data_exp[i], inverse_map = T.inverse) \n",
    "  \n",
    "for i in np.arange(2*nb_per_class, 3*nb_per_class):\n",
    "  T = SimilarityTransform( translation = trans[i] )\n",
    "  data_exp[i] = rotate(data[select_pic[i]+24], angles[i])\n",
    "  data_exp[i] = warp( data_exp[i], inverse_map = T.inverse) "
   ]
  },
  {
   "cell_type": "code",
   "execution_count": 464,
   "metadata": {},
   "outputs": [
    {
     "data": {
      "image/png": "[encoded data removed]",
      "text/plain": [
       "<Figure size 864x864 with 36 Axes>"
      ]
     },
     "metadata": {
      "needs_background": "light"
     },
     "output_type": "display_data"
    }
   ],
   "source": [
    "# ---- Take a look of the Expanded dataset\n",
    "nb = 0 #0,1 or 2\n",
    "plot_pic( [ data_exp[i] for i in np.arange(nb*nb_per_class,nb*nb_per_class+30)] )"
   ]
  },
  {
   "cell_type": "markdown",
   "metadata": {},
   "source": [
    "### 2.1) Compute every features"
   ]
  },
  {
   "cell_type": "code",
   "execution_count": 465,
   "metadata": {},
   "outputs": [],
   "source": [
    "nb_feat = 5\n",
    "FEAT = (NB_OBJ, AREA, FOURIER, PERIM, COMPACT ) = np.arange(nb_feat)\n",
    "feat_str = {NB_OBJ:'NB_OBJ', AREA : 'AREA', FOURIER : 'FOURIER_DESCRIPTOR', PERIM : 'PERIMETER', COMPACT : 'COMPACTNESS'}\n",
    "X_exp = np.zeros( ( data_exp.shape[0], nb_feat))  #X will contain the feature for each symbol\n",
    "\n",
    "for i in np.arange(data_exp.shape[0]):\n",
    "  X_exp[i,0:2] = compute_nb_objects(data_exp[i])\n",
    "  X_exp[i,FOURIER],_,_ = compute_feat_with_fourier_descriptor(data_exp[i], feat_n = 5)   #BUT 5 IS QUITE A LOT ?!?\n",
    "  X_exp[i,FOURIER]*=300 # to avoid normalization -->maybe remove !!!?? \n",
    "  X_exp[i,PERIM] = perimeter(data_exp[i])\n",
    "  X_exp[i, COMPACT] = X_exp[i,AREA]*np.pi*4/( (X_exp[i,PERIM]**2) )"
   ]
  },
  {
   "cell_type": "markdown",
   "metadata": {},
   "source": [
    "### 1.2) Plot the datas\n",
    "\n",
    "#### 1) THE NB OF OBJECT IS ENOUGH TO FIND THE '=' and the 'Divide' symbols !\n",
    " Note : Here we only have * + - but hopefully the nb_object is robust so indeed 1 object for all of them ! good :)"
   ]
  },
  {
   "cell_type": "code",
   "execution_count": 466,
   "metadata": {},
   "outputs": [
    {
     "data": {
      "text/plain": [
       "'FEAT1, FEAT2 = NB_OBJ, AREA\\ncolors = [\\'blue\\', \\'red\\', \\'yellow\\', \\'purple\\', \\'black\\']\\nfor i in np.arange(3):\\n  plt.scatter(X_exp[nb_per_class*i:nb_per_class*(i+1),FEAT1], X_exp[nb_per_class*i:nb_per_class*(i+1),FEAT2], color=colors[i]) \\nplt.xlabel(feat_str[FEAT1])\\nplt.ylabel(feat_str[FEAT2])\\nplt.legend((\"*\",\\'+\\',\\'-\\'))\\nplt.show()'"
      ]
     },
     "execution_count": 466,
     "metadata": {},
     "output_type": "execute_result"
    }
   ],
   "source": [
    "\"\"\"FEAT1, FEAT2 = NB_OBJ, AREA\n",
    "colors = ['blue', 'red', 'yellow', 'purple', 'black']\n",
    "for i in np.arange(3):\n",
    "  plt.scatter(X_exp[nb_per_class*i:nb_per_class*(i+1),FEAT1], X_exp[nb_per_class*i:nb_per_class*(i+1),FEAT2], color=colors[i]) \n",
    "plt.xlabel(feat_str[FEAT1])\n",
    "plt.ylabel(feat_str[FEAT2])\n",
    "plt.legend((\"*\",'+','-'))\n",
    "plt.show()\"\"\""
   ]
  },
  {
   "cell_type": "markdown",
   "metadata": {},
   "source": [
    "#### 2) The area seems the most promising feature for now"
   ]
  },
  {
   "cell_type": "code",
   "execution_count": 475,
   "metadata": {},
   "outputs": [
    {
     "data": {
      "image/png": "[encoded data removed]",
      "text/plain": [
       "<Figure size 432x288 with 1 Axes>"
      ]
     },
     "metadata": {
      "needs_background": "light"
     },
     "output_type": "display_data"
    }
   ],
   "source": [
    "FEAT1, FEAT2 = AREA, FOURIER\n",
    "colors = ['blue', 'red', 'yellow', 'purple', 'black']\n",
    "for i in np.arange(3):\n",
    "  plt.scatter(X_exp[nb_per_class*i:nb_per_class*(i+1),FEAT1], X_exp[nb_per_class*i:nb_per_class*(i+1),FEAT2], color=colors[i]) \n",
    "plt.xlabel(feat_str[FEAT1])\n",
    "plt.ylabel(feat_str[FEAT2])\n",
    "plt.legend((\"*\",'+','-'))\n",
    "plt.show()"
   ]
  },
  {
   "cell_type": "markdown",
   "metadata": {},
   "source": [
    "### 1.3) Compute the classifier"
   ]
  },
  {
   "cell_type": "code",
   "execution_count": 181,
   "metadata": {},
   "outputs": [],
   "source": [
    "from sklearn.discriminant_analysis import LinearDiscriminantAnalysis"
   ]
  },
  {
   "cell_type": "code",
   "execution_count": 468,
   "metadata": {},
   "outputs": [],
   "source": [
    "Xready_exp = X_exp[:,f1:f2]\n",
    "\n",
    "f1,f2 = 1,3 #Area and Fourier Descriptor\n",
    "Xready_exp = X_exp[:,f1:f2]\n",
    "yready_exp = *[1]*nb_per_class, *[2]*nb_per_class, *[3]*nb_per_class\n",
    "yready_exp = np.array(yready_exp)"
   ]
  },
  {
   "cell_type": "code",
   "execution_count": 477,
   "metadata": {},
   "outputs": [
    {
     "data": {
      "text/plain": [
       "array([[209.        ],\n",
       "       [160.        ],\n",
       "       [ 70.33333333]])"
      ]
     },
     "execution_count": 477,
     "metadata": {},
     "output_type": "execute_result"
    }
   ],
   "source": [
    "# ================= to build the classifier with the new points !!!! =================\n",
    "#clf = LinearDiscriminantAnalysis()\n",
    "#clf.fit(Xready_exp, yready_exp)\n",
    "#new_preds = clf.predict(Xready_exp) \n",
    "\n",
    "clf.means_"
   ]
  },
  {
   "cell_type": "code",
   "execution_count": 471,
   "metadata": {},
   "outputs": [],
   "source": [
    "# ================= to checks the news points with the previous classifier !!!! =================\n",
    "new_preds = clf.predict(Xready_exp[:,0].reshape(-1,1))"
   ]
  },
  {
   "cell_type": "code",
   "execution_count": 472,
   "metadata": {},
   "outputs": [
    {
     "name": "stdout",
     "output_type": "stream",
     "text": [
      "0\n",
      "0\n",
      "0\n"
     ]
    }
   ],
   "source": [
    "print(np.sum((new_preds[0:nb_per_class]==1)==False))\n",
    "print(np.sum((new_preds[nb_per_class:nb_per_class*2]==2)==False))\n",
    "print(np.sum((new_preds[nb_per_class*2:nb_per_class*3]==3)==False))"
   ]
  },
  {
   "cell_type": "markdown",
   "metadata": {},
   "source": [
    "# 3) Data Expansion + USE of GIVEN SYMBOLS"
   ]
  },
  {
   "cell_type": "code",
   "execution_count": null,
   "metadata": {},
   "outputs": [],
   "source": [
    "with open('../extractedImgBIG.data', 'rb') as dataFile:  # 1) Load the data\n",
    "\tlistObj = pickle.load(dataFile)\n",
    "\n",
    "SYMBOLS_0 = (STAR_0, EQUAL_0, DIVIDE_0, PLUS_0, MINUS_0) = (2,3,6,9,3)  #to just keep the symbols (and discard the digits)\n",
    "SYMBOLS = (STAR, EQUAL, DIVIDE, PLUS, MINUS) =  np.arange(len(SYMBOLS_0))\n",
    "nb_pic = len(listObj) #number of frame with 4 symbols on each\n",
    "nb_symb = len(SYMBOLS_0)\n",
    "nb_obj = nb_pic*nb_symb\n",
    "\n",
    "data = np.zeros( (len(SYMBOLS_0), len(listObj), listObj[0][0]['img'].shape[0], listObj[0][0]['img'].shape[1]  ))\n",
    "\n",
    "for i in np.arange(len(listObj)):\n",
    "  for j in np.arange(len(SYMBOLS_0)):\n",
    "    data[j, i,:,:] = listObj[i][SYMBOLS_0[j]]['img']"
   ]
  }
 ],
 "metadata": {
  "kernelspec": {
   "display_name": "Python 3",
   "language": "python",
   "name": "python3"
  },
  "language_info": {
   "codemirror_mode": {
    "name": "ipython",
    "version": 3
   },
   "file_extension": ".py",
   "mimetype": "text/x-python",
   "name": "python",
   "nbconvert_exporter": "python",
   "pygments_lexer": "ipython3",
   "version": "3.6.8"
  }
 },
 "nbformat": 4,
 "nbformat_minor": 2
}
