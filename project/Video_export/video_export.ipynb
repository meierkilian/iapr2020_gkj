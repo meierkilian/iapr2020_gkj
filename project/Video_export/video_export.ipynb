{
 "cells": [
  {
   "cell_type": "code",
   "execution_count": 65,
   "metadata": {},
   "outputs": [],
   "source": [
    "#pip install pypng\n",
    "\n",
    "import numpy as np\n",
    "import matplotlib.pyplot as plt\n",
    "import sys\n",
    "import cv2\n",
    "from cv2 import cvtColor\n",
    "from PIL import Image\n",
    "\n",
    "def video_load(path):\n",
    "\tv = av.open(path)\n",
    "\n",
    "\timgs = []\n",
    "\n",
    "\tfor packet in v.demux():\n",
    "\t\tfor frame in packet.decode():\n",
    "\t\t\t#if frame.type == 'video':\n",
    "\t\t\timg = frame.to_image()  # PIL/Pillow image\n",
    "\t\t\tarr = np.asarray(img)  # numpy array\n",
    "\t\t\timgs.append(arr)\n",
    "\n",
    "\treturn imgs\n",
    "\n",
    "def video_showFrame(img):\n",
    "\tplt.imshow(img)\n",
    "\tplt.axis('off')\n",
    "\tplt.show()\n",
    "    \n",
    "'''\n",
    "    function name: video_export\n",
    "    \n",
    "    input:\n",
    "    - video_name [string]: name of the exported video\n",
    "    - imgs [np.array]: array of the modified images\n",
    "    - png_path [string]: ../relative/path_to/exported/png_files\n",
    "    - video_path [string]: ../relative/path_to/exported/final_video\n",
    "    \n",
    "    output:\n",
    "    - png pictures of each frame to given png_path\n",
    "    - final exported video to given video_path\n",
    "'''\n",
    "def video_export(video_name, imgs, png_path, video_path):\n",
    "\n",
    "    #Boucle pour sauver les png.\n",
    "    i = 0;\n",
    "    for im in imgs:\n",
    "        new_im = Image.fromarray(im)\n",
    "        new_im.save(png_path+\"/\"+\"frame%d.png\" % i)\n",
    "        i = i+1\n",
    "        \n",
    "    #Boucle pour sauver la vidéo\n",
    "    video_name = video_path+\"/\"+video_name+\".avi\"\n",
    "    freq = 2\n",
    "\n",
    "    images = [img for img in os.listdir(png_path) if img.endswith(\".png\")]\n",
    "    frame = cv2.imread(os.path.join(png_path, images[0]))\n",
    "    height, width, layers = frame.shape\n",
    "\n",
    "    video = cv2.VideoWriter(video_name, 0, freq, (width,height))\n",
    "\n",
    "    for image in images:\n",
    "        video.write(cv2.imread(os.path.join(png_path, image)))\n",
    "\n",
    "    cv2.destroyAllWindows()\n",
    "    video.release()"
   ]
  },
  {
   "cell_type": "code",
   "execution_count": 66,
   "metadata": {},
   "outputs": [],
   "source": [
    "video_array = video_load(\"../data/robot_parcours_1.avi\");"
   ]
  },
  {
   "cell_type": "code",
   "execution_count": 67,
   "metadata": {},
   "outputs": [],
   "source": [
    "#WRITING FROM FRAMES TO IMAGES\n",
    "\n",
    "\n",
    "video_export(\"Video_test\", video_array, \"../export_images\", \"../export_images\")\n",
    "\n",
    "\n",
    "    "
   ]
  },
  {
   "cell_type": "code",
   "execution_count": 51,
   "metadata": {},
   "outputs": [],
   "source": [
    "#WRITING FROM IMAGES TO VIDEO\n",
    "image_folder = '../export_images'\n",
    "video_name = '../export_images/video.avi'\n",
    "\n",
    "images = [img for img in os.listdir(image_folder) if img.endswith(\".png\")]\n",
    "frame = cv2.imread(os.path.join(image_folder, images[0]))\n",
    "height, width, layers = frame.shape\n",
    "\n",
    "video = cv2.VideoWriter(video_name, 0, 2, (width,height))\n",
    "\n",
    "for image in images:\n",
    "    video.write(cv2.imread(os.path.join(image_folder, image)))\n",
    "\n",
    "cv2.destroyAllWindows()\n",
    "video.release()"
   ]
  }
 ],
 "metadata": {
  "kernelspec": {
   "display_name": "Python 3",
   "language": "python",
   "name": "python3"
  },
  "language_info": {
   "codemirror_mode": {
    "name": "ipython",
    "version": 3
   },
   "file_extension": ".py",
   "mimetype": "text/x-python",
   "name": "python",
   "nbconvert_exporter": "python",
   "pygments_lexer": "ipython3",
   "version": "3.6.10"
  }
 },
 "nbformat": 4,
 "nbformat_minor": 4
}
