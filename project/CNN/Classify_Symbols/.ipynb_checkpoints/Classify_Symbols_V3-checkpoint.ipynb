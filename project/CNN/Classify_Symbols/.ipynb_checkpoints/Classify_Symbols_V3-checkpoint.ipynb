{
 "cells": [
  {
   "cell_type": "code",
   "execution_count": 5,
   "metadata": {},
   "outputs": [],
   "source": [
    "from classify_lib import *"
   ]
  },
  {
   "cell_type": "markdown",
   "metadata": {},
   "source": [
    "# Classify Symbols\n"
   ]
  },
  {
   "cell_type": "code",
   "execution_count": 103,
   "metadata": {},
   "outputs": [
    {
     "data": {
      "text/plain": [
       "<matplotlib.image.AxesImage at 0x17740250860>"
      ]
     },
     "execution_count": 103,
     "metadata": {},
     "output_type": "execute_result"
    },
    {
     "data": {
      "image/png": "[encoded data removed]",
      "text/plain": [
       "<Figure size 432x288 with 1 Axes>"
      ]
     },
     "metadata": {
      "needs_background": "light"
     },
     "output_type": "display_data"
    }
   ],
   "source": [
    "# Can be loaded using pickle and the following lines\n",
    "with open('../extractedImg.data', 'rb') as dataFile:\n",
    "\tlistObj = pickle.load(dataFile)\n",
    "    \n",
    "digits = [listObj[i]['img'] for i in [2,3,6,9] ]#just keep the digits (and discard the symbols)\n",
    "plt.imshow(digits[0])"
   ]
  },
  {
   "cell_type": "code",
   "execution_count": 8,
   "metadata": {},
   "outputs": [
    {
     "data": {
      "text/plain": [
       "True"
      ]
     },
     "execution_count": 8,
     "metadata": {},
     "output_type": "execute_result"
    }
   ],
   "source": [
    "np.amax(digits[0])"
   ]
  },
  {
   "cell_type": "markdown",
   "metadata": {},
   "source": [
    "## Extract relevant data\n",
    "We first need to extract the `lab-01-data.tar.gz` archive.\n",
    "To this end, we use the [tarfile] module from the Python standard library.\n",
    "\n",
    "[tarfile]: https://docs.python.org/3.6/library/tarfile.html"
   ]
  },
  {
   "cell_type": "code",
   "execution_count": null,
   "metadata": {},
   "outputs": [],
   "source": [
    "data_base_path = os.path.join(os.pardir, '..\\\\..\\\\data')\n",
    "data_folder = 'lab-01-data'\n",
    "tar_path = os.path.join(data_base_path, data_folder + '.tar.gz')\n",
    "with tarfile.open(tar_path, mode='r:gz') as tar:\n",
    "    tar.extractall(path=data_base_path)\n",
    "    \n",
    "data_path = os.path.join(data_base_path, data_folder)"
   ]
  },
  {
   "cell_type": "markdown",
   "metadata": {},
   "source": [
    "###  ================== JUST LABELS A PICTURE ================"
   ]
  },
  {
   "cell_type": "code",
   "execution_count": 13,
   "metadata": {},
   "outputs": [
    {
     "name": "stdout",
     "output_type": "stream",
     "text": [
      "(316, 1736, 4)\n"
     ]
    },
    {
     "data": {
      "text/plain": [
       "<matplotlib.image.AxesImage at 0x1fd11eb2518>"
      ]
     },
     "execution_count": 13,
     "metadata": {},
     "output_type": "execute_result"
    },
    {
     "data": {
      "image/png": "[encoded data removed]",
      "text/plain": [
       "<Figure size 432x288 with 1 Axes>"
      ]
     },
     "metadata": {
      "needs_background": "light"
     },
     "output_type": "display_data"
    }
   ],
   "source": [
    "im = imageio.imread('../../data/original_operators.png')\n",
    "print(im.shape)\n",
    "plt.imshow(im[:,:,0:3])"
   ]
  },
  {
   "cell_type": "code",
   "execution_count": 4,
   "metadata": {},
   "outputs": [
    {
     "name": "stdout",
     "output_type": "stream",
     "text": [
      "(316, 1736)\n"
     ]
    },
    {
     "data": {
      "text/plain": [
       "<matplotlib.image.AxesImage at 0x1fd119ab3c8>"
      ]
     },
     "execution_count": 4,
     "metadata": {},
     "output_type": "execute_result"
    },
    {
     "data": {
      "image/png": "[encoded data removed]",
      "text/plain": [
       "<Figure size 432x288 with 1 Axes>"
      ]
     },
     "metadata": {
      "needs_background": "light"
     },
     "output_type": "display_data"
    }
   ],
   "source": [
    "greyim = rgb2gray(rgba2rgb(im))\n",
    "# or : greyim = rgb2gray(im[:,:,0:3])\n",
    "print(greyim.shape)\n",
    "plt.imshow(greyim)"
   ]
  },
  {
   "cell_type": "code",
   "execution_count": 9,
   "metadata": {},
   "outputs": [],
   "source": [
    "width = greyim.shape[1]//5\n",
    "symbols = [ None for i in np.arange(5)]\n",
    "for i in np.arange(5):\n",
    "  symbols[i] = greyim[:,width*i:width*(i+1)]"
   ]
  },
  {
   "cell_type": "code",
   "execution_count": 10,
   "metadata": {},
   "outputs": [
    {
     "data": {
      "text/plain": [
       "<matplotlib.image.AxesImage at 0x1fd11a816a0>"
      ]
     },
     "execution_count": 10,
     "metadata": {},
     "output_type": "execute_result"
    },
    {
     "data": {
      "image/png": "[encoded data removed]",
      "text/plain": [
       "<Figure size 432x288 with 1 Axes>"
      ]
     },
     "metadata": {
      "needs_background": "light"
     },
     "output_type": "display_data"
    }
   ],
   "source": [
    "plt.imshow(symbols[0])"
   ]
  },
  {
   "cell_type": "code",
   "execution_count": 124,
   "metadata": {},
   "outputs": [
    {
     "name": "stdout",
     "output_type": "stream",
     "text": [
      "nb object =  2\n"
     ]
    },
    {
     "data": {
      "text/plain": [
       "<matplotlib.image.AxesImage at 0x1774028e978>"
      ]
     },
     "execution_count": 124,
     "metadata": {},
     "output_type": "execute_result"
    },
    {
     "data": {
      "image/png": "[encoded data removed]",
      "text/plain": [
       "<Figure size 432x288 with 2 Axes>"
      ]
     },
     "metadata": {
      "needs_background": "light"
     },
     "output_type": "display_data"
    }
   ],
   "source": [
    "# =============================================================\n",
    "import numpy as np\n",
    "from skimage.measure import label\n",
    "from skimage import io\n",
    "\n",
    "arr = digits[1]\n",
    "img = label(arr)\n",
    "print(\"nb object = \", np.amax(img))\n",
    "io.imshow(img)"
   ]
  },
  {
   "cell_type": "code",
   "execution_count": 112,
   "metadata": {},
   "outputs": [
    {
     "ename": "TypeError",
     "evalue": "'numpy.ndarray' object is not callable",
     "output_type": "error",
     "traceback": [
      "\u001b[1;31m---------------------------------------------------------------------------\u001b[0m",
      "\u001b[1;31mTypeError\u001b[0m                                 Traceback (most recent call last)",
      "\u001b[1;32m<ipython-input-112-3630f8610964>\u001b[0m in \u001b[0;36m<module>\u001b[1;34m\u001b[0m\n\u001b[1;32m----> 1\u001b[1;33m \u001b[0mplt\u001b[0m\u001b[1;33m.\u001b[0m\u001b[0mimshow\u001b[0m\u001b[1;33m(\u001b[0m\u001b[0mlabels\u001b[0m\u001b[1;33m(\u001b[0m\u001b[0mdigits\u001b[0m\u001b[1;33m[\u001b[0m\u001b[1;36m0\u001b[0m\u001b[1;33m]\u001b[0m\u001b[1;33m)\u001b[0m\u001b[1;33m)\u001b[0m\u001b[1;33m\u001b[0m\u001b[1;33m\u001b[0m\u001b[0m\n\u001b[0m",
      "\u001b[1;31mTypeError\u001b[0m: 'numpy.ndarray' object is not callable"
     ]
    }
   ],
   "source": [
    "plt.imshow(labels(digits[0]))"
   ]
  },
  {
   "cell_type": "code",
   "execution_count": 22,
   "metadata": {},
   "outputs": [
    {
     "name": "stdout",
     "output_type": "stream",
     "text": [
      "0\n"
     ]
    },
    {
     "data": {
      "text/plain": [
       "Text(0.5, 1.0, 'Segmented')"
      ]
     },
     "execution_count": 22,
     "metadata": {},
     "output_type": "execute_result"
    },
    {
     "data": {
      "image/png": "[encoded data removed]",
      "text/plain": [
       "<Figure size 864x360 with 3 Axes>"
      ]
     },
     "metadata": {
      "needs_background": "light"
     },
     "output_type": "display_data"
    }
   ],
   "source": [
    "#for im in digits: #for each image\n",
    "im = the_pic = digits[0]\n",
    "\n",
    "im_gray = rgb2gray(im)      # convert to grayscale\n",
    "denoised = rank.median(img_as_ubyte(im_gray), disk(1))  # denoise image\n",
    "markers = np.zeros_like(im_gray)\n",
    "\n",
    "                #!!! maybe use Kmeans to classify the pixels in two classes : background from symbols ? \n",
    "thresh = 0.9    #!!! np.average(im_gray)\n",
    "interval = 0.2  #!!! to adjust probably !!!\n",
    "markers[im_gray<thresh-interval] = 1\n",
    "markers[im_gray>thresh+interval] = 1\n",
    "rr, cc = rectangle((0,0), extent=(4,4), shape=markers.shape) #maybe to adjust the shape too\n",
    "markers[rr,cc] = 1    \n",
    "markers = label(markers)\n",
    "markers = the_pic\n",
    "\n",
    "denoised = the_pic\n",
    "edge_sobel = filters.sobel(denoised)     # sobel edges\n",
    "labels = watershed(edge_sobel, markers)  # perform the watershed\n",
    "\n",
    "nb_obj = np.max(labels)-1\n",
    "print(nb_obj)\n",
    "\n",
    "# display results\n",
    "fig, axes = plt.subplots(nrows=1, ncols=3, figsize=(12, 5),\n",
    "                         sharex=True, sharey=True)\n",
    "ax = axes.ravel()\n",
    "\n",
    "ax[0].imshow(im)\n",
    "ax[0].set_title(\"Original\")\n",
    "\n",
    "ax[1].imshow(markers, cmap=plt.cm.nipy_spectral, alpha=1)\n",
    "ax[1].set_title(\"Markers\")\n",
    "\n",
    "ax[2].imshow(labels, cmap=plt.cm.nipy_spectral, alpha=1)\n",
    "ax[2].set_title(\"Segmented\")"
   ]
  },
  {
   "cell_type": "code",
   "execution_count": 110,
   "metadata": {},
   "outputs": [
    {
     "name": "stdout",
     "output_type": "stream",
     "text": [
      "0\n"
     ]
    },
    {
     "data": {
      "image/png": "[encoded data removed]",
      "text/plain": [
       "<Figure size 864x360 with 3 Axes>"
      ]
     },
     "metadata": {
      "needs_background": "light"
     },
     "output_type": "display_data"
    },
    {
     "name": "stdout",
     "output_type": "stream",
     "text": [
      "0\n"
     ]
    },
    {
     "data": {
      "image/png": "[encoded data removed]",
      "text/plain": [
       "<Figure size 864x360 with 3 Axes>"
      ]
     },
     "metadata": {
      "needs_background": "light"
     },
     "output_type": "display_data"
    },
    {
     "name": "stdout",
     "output_type": "stream",
     "text": [
      "0\n"
     ]
    },
    {
     "data": {
      "image/png": "[encoded data removed]",
      "text/plain": [
       "<Figure size 864x360 with 3 Axes>"
      ]
     },
     "metadata": {
      "needs_background": "light"
     },
     "output_type": "display_data"
    },
    {
     "name": "stdout",
     "output_type": "stream",
     "text": [
      "0\n"
     ]
    },
    {
     "data": {
      "image/png": "[encoded data removed]",
      "text/plain": [
       "<Figure size 864x360 with 3 Axes>"
      ]
     },
     "metadata": {
      "needs_background": "light"
     },
     "output_type": "display_data"
    }
   ],
   "source": [
    "for im in digits: #for each image\n",
    "    im_gray = rgb2gray(im)      # convert to grayscale\n",
    "    denoised = rank.median(img_as_ubyte(im_gray), disk(1))  # denoise image\n",
    "\n",
    "    # define markers for wateshed : one small rectagle to define background\n",
    "    # and markers where there is no background. The background is defined as an interval around the mean color of the image\n",
    "    markers = np.zeros_like(im_gray)\n",
    "    \n",
    "                    #!!! maybe use Kmeans to classify the pixels in two classes : background from symbols ? \n",
    "    thresh = 0.9    #!!! np.average(im_gray)\n",
    "    interval = 0.2  #!!! to adjust probably !!!\n",
    "    markers[im_gray<thresh-interval] = 1\n",
    "    markers[im_gray>thresh+interval] = 1\n",
    "    rr, cc = rectangle((0,0), extent=(4,4), shape=markers.shape) #maybe to adjust the shape too\n",
    "    markers[rr,cc] = 1    \n",
    "    markers = label(markers)\n",
    "\n",
    "    edge_sobel = filters.sobel(denoised)     # sobel edges\n",
    "    labels = watershed(edge_sobel, markers)  # perform the watershed\n",
    "\n",
    "    nb_obj = np.max(labels)-1\n",
    "    print(nb_obj)\n",
    "    \n",
    "    # display results\n",
    "    fig, axes = plt.subplots(nrows=1, ncols=3, figsize=(12, 5),\n",
    "                             sharex=True, sharey=True)\n",
    "    ax = axes.ravel()\n",
    "\n",
    "    ax[0].imshow(im)\n",
    "    ax[0].set_title(\"Original\")\n",
    "\n",
    "    ax[1].imshow(markers, cmap=plt.cm.nipy_spectral, alpha=1)\n",
    "    ax[1].set_title(\"Markers\")\n",
    "\n",
    "    ax[2].imshow(labels, cmap=plt.cm.nipy_spectral, alpha=1)\n",
    "    ax[2].set_title(\"Segmented\")\n",
    "\n",
    "    for a in ax:\n",
    "        a.axis('off')\n",
    "\n",
    "    fig.tight_layout()\n",
    "    plt.show()"
   ]
  },
  {
   "cell_type": "code",
   "execution_count": 15,
   "metadata": {},
   "outputs": [
    {
     "data": {
      "text/plain": [
       "array([1, 1, 1, 1, 1, 1, 1, 1, 1, 1, 1, 1, 1, 1, 0, 0, 0, 0, 1, 1, 1, 1,\n",
       "       1, 1, 1, 1, 1, 1], dtype=int64)"
      ]
     },
     "execution_count": 15,
     "metadata": {},
     "output_type": "execute_result"
    }
   ],
   "source": [
    "markers[10]"
   ]
  },
  {
   "cell_type": "code",
   "execution_count": 24,
   "metadata": {},
   "outputs": [],
   "source": [
    "def compute_nb_objects(pic, thresh = 0.9, interval = 0.2):\n",
    "    \"\"\"\n",
    "    return nb_object in the picture (background does NOT count as an object)\n",
    "    also return the total area of the objects\n",
    "    \n",
    "    input : the picture is composed of pixel with values between 0 and 1 !!!\n",
    "    \n",
    "    \"\"\"\n",
    "    if pic.shape[-1] == 4:\n",
    "        im_gray = np.copy(rgb2gray(rgba2rgb(im)))\n",
    "    elif pic.shape[-1] == 3:\n",
    "        im_gray = np.copy(rgb2gray(pic))  # convert to grayscale\n",
    "    elif len(pic.shape) ==2: \n",
    "        im_gray = np.copy(pic)\n",
    "    else:\n",
    "        \"\\n This picture is neither RBGA nor RGB nor greyscale\"\n",
    "        \n",
    "    denoised = rank.median(img_as_ubyte(im_gray), disk(1))  #denoise image\n",
    "    # define markers for wateshed : one small rectagle to define background\n",
    "    # and markers where there is no background. The background is defined as an interval around the mean color of the image\n",
    "    markers = np.zeros_like(im_gray)\n",
    "    \n",
    "                    #!!! maybe use Kmeans to classify the pixels in two classes : background from symbols ? \n",
    "    #thresh = 0.9    #!!! np.average(im_gray)\n",
    "    #interval = 0.2  #!!! to adjust probably !!!\n",
    "    markers[im_gray<thresh-interval] = 1\n",
    "    markers[im_gray>thresh+interval] = 1\n",
    "    area = np.sum(markers==1)\n",
    "    rr, cc = rectangle((0,0), extent=(20,20), shape=markers.shape) #maybe to adjust the shape too\n",
    "    markers[rr,cc] = 1    \n",
    "    markers = label(markers)\n",
    "\n",
    "    edge_sobel = filters.sobel(denoised)     # sobel edges\n",
    "    labels = watershed(edge_sobel, markers)  # perform the watershed\n",
    "\n",
    "    nb_obj = np.max(labels)-1\n",
    "    return nb_obj, area"
   ]
  },
  {
   "cell_type": "code",
   "execution_count": 25,
   "metadata": {},
   "outputs": [
    {
     "name": "stdout",
     "output_type": "stream",
     "text": [
      "(1, 20324)\n",
      "(2, 23251)\n",
      "(1, 11624)\n",
      "(3, 13926)\n",
      "(1, 29320)\n"
     ]
    }
   ],
   "source": [
    "for a in symbols:\n",
    "    print(compute_nb_objects(a))"
   ]
  },
  {
   "cell_type": "code",
   "execution_count": null,
   "metadata": {},
   "outputs": [],
   "source": []
  }
 ],
 "metadata": {
  "kernelspec": {
   "display_name": "Python 3",
   "language": "python",
   "name": "python3"
  },
  "language_info": {
   "codemirror_mode": {
    "name": "ipython",
    "version": 3
   },
   "file_extension": ".py",
   "mimetype": "text/x-python",
   "name": "python",
   "nbconvert_exporter": "python",
   "pygments_lexer": "ipython3",
   "version": "3.6.10"
  }
 },
 "nbformat": 4,
 "nbformat_minor": 2
}
