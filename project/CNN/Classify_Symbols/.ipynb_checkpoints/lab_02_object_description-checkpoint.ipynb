{
 "cells": [
  {
   "cell_type": "markdown",
   "metadata": {
    "colab_type": "text",
    "id": "view-in-github"
   },
   "source": [
    "<a href=\"https://colab.research.google.com/github/meierkilian/iapr2020_gkj/blob/master/labs/lab_02_object_description.ipynb\" target=\"_parent\"><img src=\"https://colab.research.google.com/assets/colab-badge.svg\" alt=\"Open In Colab\"/></a>"
   ]
  },
  {
   "cell_type": "code",
   "execution_count": 1,
   "metadata": {},
   "outputs": [],
   "source": [
    "from classify_lib import *"
   ]
  },
  {
   "cell_type": "markdown",
   "metadata": {},
   "source": [
    "# Extract Fourier Descriptor : \n",
    "### GOAL : separate the +,- and * symbols\n",
    "### Details : \n",
    "- We only used the module (and NOT the phase) to have rotationaly invariant features\n",
    "- We did NOT used the first Fourier Descriptor to make the features Translationaly invariant\n",
    "- We devided all the features by the first one : to make it scaled invariant (QUESTION : should I divide the descriptors, so the complex numbers by the real value of the fisrt descriptor ? OR should I didvide the descriptors by the module of the first descriptor ?)"
   ]
  },
  {
   "cell_type": "code",
   "execution_count": 2,
   "metadata": {},
   "outputs": [
    {
     "name": "stdout",
     "output_type": "stream",
     "text": [
      "(316, 1736, 4)\n",
      "(316, 1736)\n",
      "min =  0 max 0  255\n",
      "shape =  (316, 347)\n"
     ]
    }
   ],
   "source": [
    "im = imageio.imread('../../data/original_operators.png')\n",
    "print(im.shape)\n",
    "#plt.imshow(im[:,:,0:3])\n",
    "greyim = rgb2gray(rgba2rgb(im))   # or : greyim = rgb2gray(im[:,:,0:3])\n",
    "print(greyim.shape)\n",
    "#plt.imshow(greyim)\n",
    "width = greyim.shape[1]//5\n",
    "\n",
    "\n",
    "symbols = [ None for i in np.arange(5)]\n",
    "markers = [ np.zeros( (greyim.shape[0], width)) for i in np.arange(5) ]    # convert to binary (either 0 or 255) picture\n",
    "\n",
    "\n",
    "for i in np.arange(5):  #convert to [0, 255] integer value picture =======\n",
    "    symbols[i] = np.round(255*greyim[:,width*i:width*(i+1)],0)\n",
    "    symbols[i] = symbols[i].astype(int) #convert to int\n",
    "\n",
    "    thresh = 0.9*255    #!!! np.average(im_gray)\n",
    "    interval = 0.1*255  #!!! to adjust probably !!!\n",
    "    markers[i][symbols[i]<thresh-interval] = 255\n",
    "    markers[i][symbols[i]>thresh+interval] = 255\n",
    "    markers[i] = markers[i].astype(int)\n",
    "    symbols[i] = np.copy(markers[i]) #convert into int\n",
    "    symbols[i] = symbols[i].astype(np.uint8) #convert the picture to CV_8UC1 type\n",
    "\n",
    "print(\"min = \", np.amin(symbols[0]), \"max 0 \", np.amax(symbols[0]))\n",
    "print(\"shape = \", symbols[0].shape)"
   ]
  },
  {
   "cell_type": "code",
   "execution_count": 3,
   "metadata": {},
   "outputs": [],
   "source": [
    "descriptors = [None for i in np.arange(5)]\n",
    "for i in np.arange(5):\n",
    "    descriptors[i], _, _= extract_fourier_descriptor(symbols[i], methode = 'CV2')"
   ]
  },
  {
   "cell_type": "code",
   "execution_count": 4,
   "metadata": {
    "scrolled": true
   },
   "outputs": [],
   "source": [
    "modules = list(descriptors) #copy shape only\n",
    "for i in np.arange(5):\n",
    "    modules[i] = np.absolute(descriptors[i])\n",
    "    modules[i] = modules[i]/modules[0][0] #scaling : divide by the first value"
   ]
  },
  {
   "cell_type": "code",
   "execution_count": 21,
   "metadata": {},
   "outputs": [
    {
     "data": {
      "text/plain": [
       "<matplotlib.collections.PathCollection at 0x26756a86198>"
      ]
     },
     "execution_count": 21,
     "metadata": {},
     "output_type": "execute_result"
    },
    {
     "data": {
      "image/png": "[encoded data removed]",
      "text/plain": [
       "<Figure size 432x288 with 1 Axes>"
      ]
     },
     "metadata": {
      "needs_background": "light"
     },
     "output_type": "display_data"
    }
   ],
   "source": [
    "ONE_OBJECT_SIGNS = (PLUS, MINUS, TIMES) = 0,2,4\n",
    "feat0, feat1 = 1,1 \n",
    "\n",
    "plt.scatter(modules[PLUS][feat0], modules[i][feat1], color='blue') #the +\n",
    "plt.scatter(modules[MINUS][feat0], modules[i][feat1], color='red') #the +\n",
    "plt.scatter(modules[TIMES][feat0], modules[i][feat1], color='yellow') #the +"
   ]
  },
  {
   "cell_type": "code",
   "execution_count": 19,
   "metadata": {},
   "outputs": [
    {
     "name": "stdout",
     "output_type": "stream",
     "text": [
      "+ = 0.0\n",
      "- = 32823.0\n",
      "* = 83270.0\n",
      "\n"
     ]
    }
   ],
   "source": [
    "feat0 = 1        #Note the feature 1 is the best\n",
    "print(\"+ = {}\\n- = {}\\n* = {}\\n\".format(\n",
    "    np.round(modules[PLUS][feat0],0), \n",
    "    np.round(modules[MINUS][feat0],0),\n",
    "    np.round(modules[TIMES][feat0],0) ) )"
   ]
  },
  {
   "cell_type": "code",
   "execution_count": 1,
   "metadata": {},
   "outputs": [],
   "source": [
    "def extract_fourier_descriptor(im, methode = \"AC\"):\n",
    "    \"\"\"\n",
    "    Computes fourier descriptors given a greysclale picture.\n",
    "\n",
    "    INPUT :\n",
    "      im : grayscale image to search to contour in\n",
    "      methode : specifies methode to be used to search contour, see getContour()\n",
    "                for details\n",
    "    OUPUT :\n",
    "      fd : Fourier descriptor coefficients\n",
    "      snake : order point list of the contour \n",
    "      im : filtered image used for contour search\n",
    "    \"\"\"\n",
    "    \n",
    "    im, snake = get_contour(im, methode)\n",
    "    \n",
    "    z = (snake[:,0] + 1j*snake[:,1]) #put the 2D points of the snake in a complex representation\n",
    "    big_z = np.zeros(  (z.shape[0] + 30)  )\n",
    "    fd = np.fft.fft(big_z)\n",
    "\n",
    "    return fd, snake, im "
   ]
  },
  {
   "cell_type": "code",
   "execution_count": 2,
   "metadata": {},
   "outputs": [],
   "source": [
    "def compute_feat_with_fourier_descriptor( pic, feat_n = 1 ):\n",
    "    \"\"\"\n",
    "    Take a CV_8UC1 picture in input and return the n th feature of its Fourier Descriptor which is :\n",
    "    - Translation invariant (as soon as feat_n is NOT 0)\n",
    "    - Rotation invariant\n",
    "    - Sclaled invariant\n",
    "    \"\"\"\n",
    "    descriptor, snake, im= extract_fourier_descriptor(pic, methode = 'CV2')\n",
    "    module = np.absolute(descriptor) #compute module : rotation invariant\n",
    "    module/=module[0] #make it sclale invariant\n",
    "    return module[feat_n],snake, im"
   ]
  },
  {
   "cell_type": "code",
   "execution_count": 10,
   "metadata": {},
   "outputs": [],
   "source": [
    "\n",
    "plus, snake_plus, im_plus = compute_feat_with_fourier_descriptor(symbols[PLUS], 1)"
   ]
  },
  {
   "cell_type": "code",
   "execution_count": 23,
   "metadata": {},
   "outputs": [
    {
     "data": {
      "text/plain": [
       "2"
      ]
     },
     "execution_count": 23,
     "metadata": {},
     "output_type": "execute_result"
    }
   ],
   "source": [
    "ONE_OBJECT_SIGNS[1]"
   ]
  },
  {
   "cell_type": "code",
   "execution_count": 31,
   "metadata": {},
   "outputs": [
    {
     "name": "stdout",
     "output_type": "stream",
     "text": [
      "(772, 2)\n",
      "(496, 2)\n",
      "(901, 2)\n"
     ]
    },
    {
     "data": {
      "image/png": "[encoded data removed]",
      "text/plain": [
       "<Figure size 864x360 with 3 Axes>"
      ]
     },
     "metadata": {
      "needs_background": "light"
     },
     "output_type": "display_data"
    }
   ],
   "source": [
    "# display results : the contours are perfect ! \n",
    "fig, axes = plt.subplots(nrows=1, ncols=3, figsize=(12, 5), sharex=True, sharey=True)\n",
    "ax = axes.ravel()\n",
    "\n",
    "for i in np.arange(len(ONE_OBJECT_SIGNS)):\n",
    "    descr, snake, im =  compute_feat_with_fourier_descriptor(symbols[ONE_OBJECT_SIGNS[i]], 1)\n",
    "    ax[i].plot(snake[:,1], snake[:,0], '-b', lw=3)\n",
    "    ax[i].imshow(im)\n",
    "    ax[i].set_title(\"Original\")\n",
    "    print(snake.shape)\n",
    "\n",
    "for a in ax:\n",
    "    a.axis('off')\n",
    "    \n"
   ]
  },
  {
   "cell_type": "code",
   "execution_count": 30,
   "metadata": {},
   "outputs": [
    {
     "data": {
      "text/plain": [
       "(901, 2)"
      ]
     },
     "execution_count": 30,
     "metadata": {},
     "output_type": "execute_result"
    }
   ],
   "source": [
    "snake.shape"
   ]
  }
 ],
 "metadata": {
  "colab": {
   "include_colab_link": true,
   "name": "lab_02_object_description_jerome.ipynb",
   "provenance": [],
   "toc_visible": true
  },
  "kernelspec": {
   "display_name": "Python 3",
   "language": "python",
   "name": "python3"
  },
  "language_info": {
   "codemirror_mode": {
    "name": "ipython",
    "version": 3
   },
   "file_extension": ".py",
   "mimetype": "text/x-python",
   "name": "python",
   "nbconvert_exporter": "python",
   "pygments_lexer": "ipython3",
   "version": "3.6.8"
  }
 },
 "nbformat": 4,
 "nbformat_minor": 1
}
