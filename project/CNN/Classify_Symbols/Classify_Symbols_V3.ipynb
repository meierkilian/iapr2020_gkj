{
 "cells": [
  {
   "cell_type": "code",
   "execution_count": 1,
   "metadata": {},
   "outputs": [
    {
     "name": "stderr",
     "output_type": "stream",
     "text": [
      "In C:\\Users\\etaxi\\Anaconda3\\envs\\keras-gpu\\lib\\site-packages\\matplotlib\\mpl-data\\stylelib\\_classic_test.mplstyle: \n",
      "The savefig.frameon rcparam was deprecated in Matplotlib 3.1 and will be removed in 3.3.\n",
      "In C:\\Users\\etaxi\\Anaconda3\\envs\\keras-gpu\\lib\\site-packages\\matplotlib\\mpl-data\\stylelib\\_classic_test.mplstyle: \n",
      "The verbose.level rcparam was deprecated in Matplotlib 3.1 and will be removed in 3.3.\n",
      "In C:\\Users\\etaxi\\Anaconda3\\envs\\keras-gpu\\lib\\site-packages\\matplotlib\\mpl-data\\stylelib\\_classic_test.mplstyle: \n",
      "The verbose.fileo rcparam was deprecated in Matplotlib 3.1 and will be removed in 3.3.\n"
     ]
    }
   ],
   "source": [
    "from classify_lib import *"
   ]
  },
  {
   "cell_type": "markdown",
   "metadata": {},
   "source": [
    "# Classify Symbols\n"
   ]
  },
  {
   "cell_type": "markdown",
   "metadata": {},
   "source": [
    "## 1) Data From Kilian\n",
    "### 1.1) Extract nb_object and total area"
   ]
  },
  {
   "cell_type": "code",
   "execution_count": 2,
   "metadata": {},
   "outputs": [
    {
     "data": {
      "text/plain": [
       "<matplotlib.image.AxesImage at 0x1eaaaa77400>"
      ]
     },
     "execution_count": 2,
     "metadata": {},
     "output_type": "execute_result"
    },
    {
     "data": {
      "image/png": "[encoded data removed]",
      "text/plain": [
       "<Figure size 432x288 with 1 Axes>"
      ]
     },
     "metadata": {
      "needs_background": "light"
     },
     "output_type": "display_data"
    }
   ],
   "source": [
    "# Can be loaded using pickle and the following lines\n",
    "with open('../extractedImg.data', 'rb') as dataFile:\n",
    "\tlistObj = pickle.load(dataFile)\n",
    "    \n",
    "symbols = [listObj[i]['img'] for i in [2,3,6,9] ] #just keep the symbols (and discard the digits)\n",
    "plt.imshow(symbols[0])"
   ]
  },
  {
   "cell_type": "code",
   "execution_count": 3,
   "metadata": {},
   "outputs": [
    {
     "name": "stdout",
     "output_type": "stream",
     "text": [
      "1 291\n",
      "2 110\n",
      "3 13\n",
      "1 227\n"
     ]
    }
   ],
   "source": [
    "nb_objs, areas = [ None for i in symbols], [ None for i in symbols ]\n",
    "for i in np.arange(len(symbols)):    \n",
    "  nb_objs[i], areas[i] = compute_nb_objects(symbols[i])\n",
    "  print(nb_objs[i], areas[i])"
   ]
  },
  {
   "cell_type": "markdown",
   "metadata": {},
   "source": [
    "## 1.2) Extract Fourier Descriptor and Perimeter\n",
    "Only for the +, -, * symbols \n",
    "\n",
    "NOTE !!!??? : pad picture with 0 to have bigger pictures"
   ]
  },
  {
   "cell_type": "code",
   "execution_count": 30,
   "metadata": {},
   "outputs": [
    {
     "name": "stdout",
     "output_type": "stream",
     "text": [
      "diff =  0.006926584573006728\n"
     ]
    }
   ],
   "source": [
    "# 1) Compute Fourier Descriptor\n",
    "feats, snakes, ims = [ None for i in symbols],  [ None for i in symbols],  [ None for i in symbols]\n",
    "feat = 2\n",
    "feats[0], snakes[0], ims[0] = compute_feat_with_fourier_descriptor(symbols[0], feat)\n",
    "feats[3], snakes[3], ims[3] = compute_feat_with_fourier_descriptor(symbols[3], feat)\n",
    "\n",
    "print(\"diff = \", np.abs(feats[0]-feats[3]))"
   ]
  },
  {
   "cell_type": "code",
   "execution_count": 29,
   "metadata": {},
   "outputs": [
    {
     "data": {
      "text/plain": [
       "(89.32590180780451, 79.698484809835)"
      ]
     },
     "execution_count": 29,
     "metadata": {},
     "output_type": "execute_result"
    }
   ],
   "source": [
    "# 2) Compute PERIMETER : #tested : it works well\n",
    "\n",
    "perimeter(symbols[0]), perimeter(symbols[3])"
   ]
  },
  {
   "cell_type": "code",
   "execution_count": 31,
   "metadata": {},
   "outputs": [
    {
     "ename": "NameError",
     "evalue": "name 'snake' is not defined",
     "output_type": "error",
     "traceback": [
      "\u001b[1;31m---------------------------------------------------------------------------\u001b[0m",
      "\u001b[1;31mNameError\u001b[0m                                 Traceback (most recent call last)",
      "\u001b[1;32m<ipython-input-31-a05b285faf02>\u001b[0m in \u001b[0;36m<module>\u001b[1;34m\u001b[0m\n\u001b[0;32m     14\u001b[0m \u001b[0max\u001b[0m\u001b[1;33m[\u001b[0m\u001b[1;36m1\u001b[0m\u001b[1;33m]\u001b[0m\u001b[1;33m.\u001b[0m\u001b[0mimshow\u001b[0m\u001b[1;33m(\u001b[0m\u001b[0mims\u001b[0m\u001b[1;33m[\u001b[0m\u001b[1;36m3\u001b[0m\u001b[1;33m]\u001b[0m\u001b[1;33m)\u001b[0m\u001b[1;33m\u001b[0m\u001b[1;33m\u001b[0m\u001b[0m\n\u001b[0;32m     15\u001b[0m \u001b[0max\u001b[0m\u001b[1;33m[\u001b[0m\u001b[1;36m1\u001b[0m\u001b[1;33m]\u001b[0m\u001b[1;33m.\u001b[0m\u001b[0mset_title\u001b[0m\u001b[1;33m(\u001b[0m\u001b[1;34m\"Original\"\u001b[0m\u001b[1;33m)\u001b[0m\u001b[1;33m\u001b[0m\u001b[1;33m\u001b[0m\u001b[0m\n\u001b[1;32m---> 16\u001b[1;33m \u001b[0mprint\u001b[0m\u001b[1;33m(\u001b[0m\u001b[0msnake\u001b[0m\u001b[1;33m.\u001b[0m\u001b[0mshape\u001b[0m\u001b[1;33m)\u001b[0m\u001b[1;33m\u001b[0m\u001b[1;33m\u001b[0m\u001b[0m\n\u001b[0m\u001b[0;32m     17\u001b[0m \u001b[1;33m\u001b[0m\u001b[0m\n\u001b[0;32m     18\u001b[0m \u001b[1;32mfor\u001b[0m \u001b[0ma\u001b[0m \u001b[1;32min\u001b[0m \u001b[0max\u001b[0m\u001b[1;33m:\u001b[0m\u001b[1;33m\u001b[0m\u001b[1;33m\u001b[0m\u001b[0m\n",
      "\u001b[1;31mNameError\u001b[0m: name 'snake' is not defined"
     ]
    },
    {
     "data": {
      "image/png": "[encoded data removed]",
      "text/plain": [
       "<Figure size 864x360 with 2 Axes>"
      ]
     },
     "metadata": {
      "needs_background": "light"
     },
     "output_type": "display_data"
    }
   ],
   "source": [
    "# ===============  display results : the contours are perfect !    ===============  \n",
    "\n",
    "fig, axes = plt.subplots(nrows=1, ncols=2, figsize=(12, 5), sharex=True, sharey=True)\n",
    "ax = axes.ravel()\n",
    "\n",
    "feats[0], snakes[0], ims[0] = compute_feat_with_fourier_descriptor(symbols[0], feat)\n",
    "feats[3], snakes[3], ims[3] = compute_feat_with_fourier_descriptor(symbols[3], feat)\n",
    "\n",
    "ax[0].plot(snakes[0][:,1], snakes[0][:,0], '-b', lw=3)\n",
    "ax[0].imshow(ims[0])\n",
    "ax[0].set_title(\"Original\")\n",
    "\n",
    "ax[1].plot(snakes[3][:,1], snakes[3][:,0], '-b', lw=3)\n",
    "ax[1].imshow(ims[3])\n",
    "ax[1].set_title(\"Original\")\n",
    "print(snake.shape)\n",
    "\n",
    "for a in ax:\n",
    "    a.axis('off')\n",
    "    "
   ]
  },
  {
   "cell_type": "markdown",
   "metadata": {},
   "source": [
    "## try zero padding : don't change the results !"
   ]
  },
  {
   "cell_type": "markdown",
   "metadata": {},
   "source": [
    "## 2) Data From Moodle\n"
   ]
  },
  {
   "cell_type": "code",
   "execution_count": 6,
   "metadata": {},
   "outputs": [],
   "source": [
    "data_base_path = os.path.join(os.pardir, '..\\\\..\\\\data')\n",
    "data_folder = 'lab-01-data'\n",
    "tar_path = os.path.join(data_base_path, data_folder + '.tar.gz')\n",
    "with tarfile.open(tar_path, mode='r:gz') as tar:\n",
    "    tar.extractall(path=data_base_path)\n",
    "    \n",
    "data_path = os.path.join(data_base_path, data_folder)"
   ]
  },
  {
   "cell_type": "markdown",
   "metadata": {},
   "source": [
    "###  ================== JUST LABELS A PICTURE ================"
   ]
  },
  {
   "cell_type": "code",
   "execution_count": 30,
   "metadata": {},
   "outputs": [
    {
     "name": "stdout",
     "output_type": "stream",
     "text": [
      "(316, 1736, 4)\n"
     ]
    },
    {
     "data": {
      "text/plain": [
       "<matplotlib.image.AxesImage at 0x214e0904080>"
      ]
     },
     "execution_count": 30,
     "metadata": {},
     "output_type": "execute_result"
    },
    {
     "data": {
      "image/png": "[encoded data removed]",
      "text/plain": [
       "<Figure size 432x288 with 1 Axes>"
      ]
     },
     "metadata": {
      "needs_background": "light"
     },
     "output_type": "display_data"
    }
   ],
   "source": [
    "im = imageio.imread('../../data/original_operators.png')\n",
    "print(im.shape)\n",
    "plt.imshow(im[:,:,0:3])"
   ]
  },
  {
   "cell_type": "code",
   "execution_count": 8,
   "metadata": {},
   "outputs": [
    {
     "name": "stdout",
     "output_type": "stream",
     "text": [
      "(316, 1736)\n"
     ]
    },
    {
     "data": {
      "text/plain": [
       "<matplotlib.image.AxesImage at 0x214e08a3128>"
      ]
     },
     "execution_count": 8,
     "metadata": {},
     "output_type": "execute_result"
    },
    {
     "data": {
      "image/png": "[encoded data removed]",
      "text/plain": [
       "<Figure size 432x288 with 1 Axes>"
      ]
     },
     "metadata": {
      "needs_background": "light"
     },
     "output_type": "display_data"
    }
   ],
   "source": [
    "greyim = rgb2gray(rgba2rgb(im))\n",
    "# or : greyim = rgb2gray(im[:,:,0:3])\n",
    "print(greyim.shape)\n",
    "plt.imshow(greyim)"
   ]
  },
  {
   "cell_type": "code",
   "execution_count": 9,
   "metadata": {},
   "outputs": [],
   "source": [
    "width = greyim.shape[1]//5\n",
    "symbols = [ None for i in np.arange(5)]\n",
    "for i in np.arange(5):\n",
    "  symbols[i] = greyim[:,width*i:width*(i+1)]"
   ]
  },
  {
   "cell_type": "code",
   "execution_count": 10,
   "metadata": {},
   "outputs": [
    {
     "data": {
      "text/plain": [
       "<matplotlib.image.AxesImage at 0x214e0f96a90>"
      ]
     },
     "execution_count": 10,
     "metadata": {},
     "output_type": "execute_result"
    },
    {
     "data": {
      "image/png": "[encoded data removed]",
      "text/plain": [
       "<Figure size 432x288 with 1 Axes>"
      ]
     },
     "metadata": {
      "needs_background": "light"
     },
     "output_type": "display_data"
    }
   ],
   "source": [
    "plt.imshow(symbols[0])"
   ]
  },
  {
   "cell_type": "code",
   "execution_count": 87,
   "metadata": {},
   "outputs": [
    {
     "name": "stdout",
     "output_type": "stream",
     "text": [
      "0\n"
     ]
    },
    {
     "name": "stderr",
     "output_type": "stream",
     "text": [
      "C:\\Users\\etaxi\\Anaconda3\\envs\\keras-gpu\\lib\\site-packages\\ipykernel_launcher.py:2: FutureWarning: The behavior of rgb2gray will change in scikit-image 0.19. Currently, rgb2gray allows 2D grayscale image to be passed as inputs and leaves them unmodified as outputs. Starting from version 0.19, 2D arrays will be treated as 1D images with 3 channels.\n",
      "  \n"
     ]
    },
    {
     "data": {
      "image/png": "[encoded data removed]",
      "text/plain": [
       "<Figure size 864x360 with 3 Axes>"
      ]
     },
     "metadata": {
      "needs_background": "light"
     },
     "output_type": "display_data"
    },
    {
     "name": "stdout",
     "output_type": "stream",
     "text": [
      "0\n"
     ]
    },
    {
     "data": {
      "image/png": "[encoded data removed]",
      "text/plain": [
       "<Figure size 864x360 with 3 Axes>"
      ]
     },
     "metadata": {
      "needs_background": "light"
     },
     "output_type": "display_data"
    },
    {
     "name": "stdout",
     "output_type": "stream",
     "text": [
      "0\n"
     ]
    },
    {
     "data": {
      "image/png": "[encoded data removed]",
      "text/plain": [
       "<Figure size 864x360 with 3 Axes>"
      ]
     },
     "metadata": {
      "needs_background": "light"
     },
     "output_type": "display_data"
    },
    {
     "name": "stdout",
     "output_type": "stream",
     "text": [
      "0\n"
     ]
    },
    {
     "data": {
      "image/png": "[encoded data removed]",
      "text/plain": [
       "<Figure size 864x360 with 3 Axes>"
      ]
     },
     "metadata": {
      "needs_background": "light"
     },
     "output_type": "display_data"
    }
   ],
   "source": [
    "for im in symbols: #for each image\n",
    "    im_gray = rgb2gray(im)      # convert to grayscale\n",
    "    denoised = rank.median(img_as_ubyte(im_gray), disk(1))  # denoise image\n",
    "\n",
    "    # define markers for wateshed : one small rectagle to define background\n",
    "    # and markers where there is no background. The background is defined as an interval around the mean color of the image\n",
    "    markers = np.zeros_like(im_gray)\n",
    "    \n",
    "                    #!!! maybe use Kmeans to classify the pixels in two classes : background from symbols ? \n",
    "    thresh = 0.9    #!!! np.average(im_gray)\n",
    "    interval = 0.2  #!!! to adjust probably !!!\n",
    "    markers[im_gray<thresh-interval] = 1\n",
    "    markers[im_gray>thresh+interval] = 1\n",
    "    rr, cc = rectangle((0,0), extent=(10,10), shape=markers.shape) #maybe to adjust the shape too\n",
    "    markers[rr,cc] = 1    \n",
    "    markers = label(markers)\n",
    "\n",
    "    edge_sobel = filters.sobel(denoised)     # sobel edges\n",
    "    labels = watershed(edge_sobel, markers)  # perform the watershed\n",
    "\n",
    "    nb_obj = np.max(labels)-1\n",
    "    print(nb_obj)\n",
    "    \n",
    "    # display results\n",
    "    fig, axes = plt.subplots(nrows=1, ncols=3, figsize=(12, 5),\n",
    "                             sharex=True, sharey=True)\n",
    "    ax = axes.ravel()\n",
    "\n",
    "    ax[0].imshow(im)\n",
    "    ax[0].set_title(\"Original\")\n",
    "\n",
    "    ax[1].imshow(markers, cmap=plt.cm.nipy_spectral, alpha=1)\n",
    "    ax[1].set_title(\"Markers\")\n",
    "\n",
    "    ax[2].imshow(labels, cmap=plt.cm.nipy_spectral, alpha=1)\n",
    "    ax[2].set_title(\"Segmented\")\n",
    "\n",
    "    for a in ax:\n",
    "        a.axis('off')\n",
    "\n",
    "    fig.tight_layout()\n",
    "    plt.show()"
   ]
  },
  {
   "cell_type": "code",
   "execution_count": 15,
   "metadata": {},
   "outputs": [
    {
     "data": {
      "text/plain": [
       "array([1, 1, 1, 1, 1, 1, 1, 1, 1, 1, 1, 1, 1, 1, 0, 0, 0, 0, 1, 1, 1, 1,\n",
       "       1, 1, 1, 1, 1, 1], dtype=int64)"
      ]
     },
     "execution_count": 15,
     "metadata": {},
     "output_type": "execute_result"
    }
   ],
   "source": [
    "markers[10]"
   ]
  },
  {
   "cell_type": "code",
   "execution_count": 24,
   "metadata": {},
   "outputs": [],
   "source": [
    "def compute_nb_objects(pic, thresh = 0.9, interval = 0.2):\n",
    "    \"\"\"\n",
    "    return nb_object in the picture (background does NOT count as an object)\n",
    "    also return the total area of the objects\n",
    "    \n",
    "    input : the picture is composed of pixel with values between 0 and 1 !!!\n",
    "    \n",
    "    \"\"\"\n",
    "    if pic.shape[-1] == 4:\n",
    "        im_gray = np.copy(rgb2gray(rgba2rgb(im)))\n",
    "    elif pic.shape[-1] == 3:\n",
    "        im_gray = np.copy(rgb2gray(pic))  # convert to grayscale\n",
    "    elif len(pic.shape) ==2: \n",
    "        im_gray = np.copy(pic)\n",
    "    else:\n",
    "        \"\\n This picture is neither RBGA nor RGB nor greyscale\"\n",
    "        \n",
    "    denoised = rank.median(img_as_ubyte(im_gray), disk(1))  #denoise image\n",
    "    # define markers for wateshed : one small rectagle to define background\n",
    "    # and markers where there is no background. The background is defined as an interval around the mean color of the image\n",
    "    markers = np.zeros_like(im_gray)\n",
    "    \n",
    "                    #!!! maybe use Kmeans to classify the pixels in two classes : background from symbols ? \n",
    "    #thresh = 0.9    #!!! np.average(im_gray)\n",
    "    #interval = 0.2  #!!! to adjust probably !!!\n",
    "    markers[im_gray<thresh-interval] = 1\n",
    "    markers[im_gray>thresh+interval] = 1\n",
    "    area = np.sum(markers==1)\n",
    "    rr, cc = rectangle((0,0), extent=(20,20), shape=markers.shape) #maybe to adjust the shape too\n",
    "    markers[rr,cc] = 1    \n",
    "    markers = label(markers)\n",
    "\n",
    "    edge_sobel = filters.sobel(denoised)     # sobel edges\n",
    "    labels = watershed(edge_sobel, markers)  # perform the watershed\n",
    "\n",
    "    nb_obj = np.max(labels)-1\n",
    "    return nb_obj, area"
   ]
  },
  {
   "cell_type": "code",
   "execution_count": 25,
   "metadata": {},
   "outputs": [
    {
     "name": "stdout",
     "output_type": "stream",
     "text": [
      "(1, 20324)\n",
      "(2, 23251)\n",
      "(1, 11624)\n",
      "(3, 13926)\n",
      "(1, 29320)\n"
     ]
    }
   ],
   "source": [
    "for a in symbols:\n",
    "    print(compute_nb_objects(a))"
   ]
  },
  {
   "cell_type": "code",
   "execution_count": null,
   "metadata": {},
   "outputs": [],
   "source": []
  }
 ],
 "metadata": {
  "kernelspec": {
   "display_name": "Python 3",
   "language": "python",
   "name": "python3"
  },
  "language_info": {
   "codemirror_mode": {
    "name": "ipython",
    "version": 3
   },
   "file_extension": ".py",
   "mimetype": "text/x-python",
   "name": "python",
   "nbconvert_exporter": "python",
   "pygments_lexer": "ipython3",
   "version": "3.6.8"
  }
 },
 "nbformat": 4,
 "nbformat_minor": 2
}
