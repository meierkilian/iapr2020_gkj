{
 "cells": [
  {
   "cell_type": "markdown",
   "metadata": {},
   "source": [
    "# Write Text On Pictures\n"
   ]
  },
  {
   "cell_type": "code",
   "execution_count": 87,
   "metadata": {},
   "outputs": [],
   "source": [
    "from classify_lib import *"
   ]
  },
  {
   "cell_type": "code",
   "execution_count": 90,
   "metadata": {},
   "outputs": [
    {
     "name": "stdout",
     "output_type": "stream",
     "text": [
      "(316, 1736, 4)\n"
     ]
    },
    {
     "data": {
      "text/plain": [
       "<matplotlib.image.AxesImage at 0x1f1b5abf9b0>"
      ]
     },
     "execution_count": 90,
     "metadata": {},
     "output_type": "execute_result"
    },
    {
     "data": {
      "image/png": "[encoded data removed]",
      "text/plain": [
       "<Figure size 432x288 with 1 Axes>"
      ]
     },
     "metadata": {
      "needs_background": "light"
     },
     "output_type": "display_data"
    }
   ],
   "source": [
    "data_base_path = os.path.join(os.pardir, '..\\\\..\\\\data')\n",
    "data_folder = 'lab-01-data'\n",
    "tar_path = os.path.join(data_base_path, data_folder + '.tar.gz')\n",
    "with tarfile.open(tar_path, mode='r:gz') as tar:\n",
    "    tar.extractall(path=data_base_path)\n",
    "    \n",
    "data_path = os.path.join(data_base_path, data_folder)\n",
    "\n",
    "im = imageio.imread('../../data/original_operators.png')\n",
    "print(im.shape)\n",
    "plt.imshow(im[:,:,0:3])"
   ]
  },
  {
   "cell_type": "markdown",
   "metadata": {},
   "source": [
    "# Simple example how to proceed : "
   ]
  },
  {
   "cell_type": "code",
   "execution_count": null,
   "metadata": {},
   "outputs": [],
   "source": [
    "#from PIL import Image #normaly already imported"
   ]
  },
  {
   "cell_type": "code",
   "execution_count": 117,
   "metadata": {},
   "outputs": [
    {
     "data": {
      "text/plain": [
       "<matplotlib.image.AxesImage at 0x1f1b7ccdac8>"
      ]
     },
     "execution_count": 117,
     "metadata": {},
     "output_type": "execute_result"
    },
    {
     "data": {
      "image/png": "[encoded data removed]",
      "text/plain": [
       "<Figure size 864x576 with 1 Axes>"
      ]
     },
     "metadata": {
      "needs_background": "light"
     },
     "output_type": "display_data"
    }
   ],
   "source": [
    "pic_written = write_text_on_pic(im=np.copy(im), \n",
    "                    text = 'OMG This robot is a madlad !!', text_size = 50, text_pos = (25,25), text_color = 'red', \n",
    "                    background_color = 'black', background_dim = [(20,10), (700,100)])\n",
    "\n",
    "plt.figure(figsize = (12,8))\n",
    "plt.imshow(pic_written)"
   ]
  },
  {
   "cell_type": "markdown",
   "metadata": {},
   "source": [
    "# Working Area (can be usefull in one wants to change a few details)"
   ]
  },
  {
   "cell_type": "code",
   "execution_count": null,
   "metadata": {},
   "outputs": [],
   "source": [
    "#let im = our image, which is stored in a numpy array of shape (length, width, 4)\n",
    "\n",
    "im_PIL = Image.fromarray(np.uint8((im[:,:,0:3])))   # 1) Convert to PIL.Image.Image type\n",
    "d = ImageDraw.Draw(im_PIL)                          # 2) Create an object pointing on our picture we want to modify \n",
    "d.rectangle([(10,10),(1300,120)], fill='black', outline=None) # 3) Draw a rectangle, which we can use as background\n",
    "fnt = ImageFont.truetype('arial.ttf', 80)                     # 4) Create the font for the text\n",
    "d.text((30,30), \"omg what is this robot gonna do ?!\", font = fnt, fill=(255, 50, 50)) # 5) Write the text on our picture\n",
    " \n",
    "#img.save('pil_text_font.png')\n",
    "#plt.imshow(im_PIL)\n",
    "\n",
    "im_np = np.copy(np.array(im_PIL))  # 6) Convert back the PIL.Image.Image into a numpy array.\n",
    "plt.imshow(im_np)"
   ]
  },
  {
   "cell_type": "code",
   "execution_count": 70,
   "metadata": {},
   "outputs": [
    {
     "data": {
      "text/plain": [
       "(316, 1736, 4)"
      ]
     },
     "execution_count": 70,
     "metadata": {},
     "output_type": "execute_result"
    }
   ],
   "source": [
    "im.shape"
   ]
  },
  {
   "cell_type": "code",
   "execution_count": 113,
   "metadata": {},
   "outputs": [],
   "source": [
    "def write_text_on_pic(im, text = 'Hello', text_size = 50, text_pos = (25,25), text_color = 'red', \n",
    "                      background_color = 'black', background_dim = [(10,10), (500,120)]):\n",
    "    \"\"\" \n",
    "    To write text on a picture. the image im must be an numpy array of shape (length, width, 4) or (length, width, 3)\n",
    "    \n",
    "    \"\"\"\n",
    "    copy = np.copy(im)\n",
    "    if im.shape[-1] == 4:           \n",
    "        im_PIL = Image.fromarray(np.uint8(copy[:,:,0:3]))    # 1) Convert to PIL.Image.Image type\n",
    "    elif im.shape[-1] ==3:\n",
    "        im_PIL = Image.fromarray(np.uint8(copy[:,:,0:3]))   # 1) Convert to PIL.Image.Image type\n",
    "    else:\n",
    "        print(\"Unknown type for the input image. Please Check it's either a RGB or RGBA numpy array.\")\n",
    "        \n",
    "    d = ImageDraw.Draw(im_PIL)                          # 2) Create an object pointing on our picture we want to modify \n",
    "    d.rectangle(background_dim, fill=background_color, outline=None)     # 3) Draw a rectangle, which we can use as background\n",
    "    fnt = ImageFont.truetype('arial.ttf', text_size)                     # 4) Create the font for the text\n",
    "    d.text(text_pos, text, font = fnt, fill=text_color) # 5) Write the text on our picture\n",
    "\n",
    "    #img.save('pil_text_font.png')\n",
    "    #plt.imshow(im_PIL)\n",
    "    \n",
    "    return np.array(im_PIL) # 6) Convert back the PIL.Image.Image into a numpy array.\n",
    "    #plt.imshow(im_np)"
   ]
  },
  {
   "cell_type": "markdown",
   "metadata": {},
   "source": [
    "###  ================== Simple example ================"
   ]
  },
  {
   "cell_type": "code",
   "execution_count": 15,
   "metadata": {},
   "outputs": [
    {
     "data": {
      "text/plain": [
       "<matplotlib.image.AxesImage at 0x1f1afa73898>"
      ]
     },
     "execution_count": 15,
     "metadata": {},
     "output_type": "execute_result"
    },
    {
     "data": {
      "image/png": "[encoded data removed]",
      "text/plain": [
       "<Figure size 432x288 with 1 Axes>"
      ]
     },
     "metadata": {
      "needs_background": "light"
     },
     "output_type": "display_data"
    }
   ],
   "source": [
    "from PIL import Image, ImageDraw, ImageFont\n",
    " \n",
    "img = Image.new('RGB', (100, 30), color = (0, 0, 0))\n",
    " \n",
    "d = ImageDraw.Draw(img)\n",
    "d.text((20,10), \"Hello world\", fill=(255, 50, 50)) #font = blablabla\n",
    " \n",
    "#img.save('pil_text_font.png')\n",
    "plt.imshow(img)"
   ]
  },
  {
   "cell_type": "code",
   "execution_count": null,
   "metadata": {},
   "outputs": [],
   "source": []
  }
 ],
 "metadata": {
  "kernelspec": {
   "display_name": "Python 3",
   "language": "python",
   "name": "python3"
  },
  "language_info": {
   "codemirror_mode": {
    "name": "ipython",
    "version": 3
   },
   "file_extension": ".py",
   "mimetype": "text/x-python",
   "name": "python",
   "nbconvert_exporter": "python",
   "pygments_lexer": "ipython3",
   "version": "3.6.10"
  }
 },
 "nbformat": 4,
 "nbformat_minor": 2
}
